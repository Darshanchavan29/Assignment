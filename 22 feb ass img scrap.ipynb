{
 "cells": [
  {
   "cell_type": "markdown",
   "id": "007a451f-265a-4d39-a294-5487ae895b69",
   "metadata": {},
   "source": [
    "Go to this given URL and solve the following questions"
   ]
  },
  {
   "cell_type": "markdown",
   "id": "4f5f0888-d9f0-411f-8a15-7a8b2692f7c0",
   "metadata": {},
   "source": [
    "URL: https://www.youtube.com/@PW-Foundation/videos"
   ]
  },
  {
   "cell_type": "markdown",
   "id": "185bdc0f-179c-4508-964e-5ce3dfa8ac3f",
   "metadata": {},
   "source": [
    "Q1. Write a python program to extract the video URL of the first five videos."
   ]
  },
  {
   "cell_type": "code",
   "execution_count": 4,
   "id": "c2edb657-1dea-40e2-818c-bf294665180e",
   "metadata": {},
   "outputs": [
    {
     "name": "stdout",
     "output_type": "stream",
     "text": [
      "Collecting selenium\n",
      "  Downloading selenium-4.8.3-py3-none-any.whl (6.5 MB)\n",
      "\u001b[2K     \u001b[90m━━━━━━━━━━━━━━━━━━━━━━━━━━━━━━━━━━━━━━━━\u001b[0m \u001b[32m6.5/6.5 MB\u001b[0m \u001b[31m72.6 MB/s\u001b[0m eta \u001b[36m0:00:00\u001b[0m:00:01\u001b[0m0:01\u001b[0m\n",
      "\u001b[?25hRequirement already satisfied: urllib3[socks]~=1.26 in /opt/conda/lib/python3.10/site-packages (from selenium) (1.26.13)\n",
      "Collecting trio-websocket~=0.9\n",
      "  Downloading trio_websocket-0.10.2-py3-none-any.whl (17 kB)\n",
      "Collecting trio~=0.17\n",
      "  Downloading trio-0.22.0-py3-none-any.whl (384 kB)\n",
      "\u001b[2K     \u001b[90m━━━━━━━━━━━━━━━━━━━━━━━━━━━━━━━━━━━━━━\u001b[0m \u001b[32m384.9/384.9 kB\u001b[0m \u001b[31m42.7 MB/s\u001b[0m eta \u001b[36m0:00:00\u001b[0m\n",
      "\u001b[?25hRequirement already satisfied: certifi>=2021.10.8 in /opt/conda/lib/python3.10/site-packages (from selenium) (2022.12.7)\n",
      "Requirement already satisfied: async-generator>=1.9 in /opt/conda/lib/python3.10/site-packages (from trio~=0.17->selenium) (1.10)\n",
      "Requirement already satisfied: sniffio in /opt/conda/lib/python3.10/site-packages (from trio~=0.17->selenium) (1.3.0)\n",
      "Collecting exceptiongroup>=1.0.0rc9\n",
      "  Downloading exceptiongroup-1.1.1-py3-none-any.whl (14 kB)\n",
      "Requirement already satisfied: idna in /opt/conda/lib/python3.10/site-packages (from trio~=0.17->selenium) (3.4)\n",
      "Collecting outcome\n",
      "  Downloading outcome-1.2.0-py2.py3-none-any.whl (9.7 kB)\n",
      "Requirement already satisfied: sortedcontainers in /opt/conda/lib/python3.10/site-packages (from trio~=0.17->selenium) (2.4.0)\n",
      "Requirement already satisfied: attrs>=19.2.0 in /opt/conda/lib/python3.10/site-packages (from trio~=0.17->selenium) (22.1.0)\n",
      "Collecting wsproto>=0.14\n",
      "  Downloading wsproto-1.2.0-py3-none-any.whl (24 kB)\n",
      "Requirement already satisfied: PySocks!=1.5.7,<2.0,>=1.5.6 in /opt/conda/lib/python3.10/site-packages (from urllib3[socks]~=1.26->selenium) (1.7.1)\n",
      "Collecting h11<1,>=0.9.0\n",
      "  Downloading h11-0.14.0-py3-none-any.whl (58 kB)\n",
      "\u001b[2K     \u001b[90m━━━━━━━━━━━━━━━━━━━━━━━━━━━━━━━━━━━━━━━━\u001b[0m \u001b[32m58.3/58.3 kB\u001b[0m \u001b[31m10.3 MB/s\u001b[0m eta \u001b[36m0:00:00\u001b[0m\n",
      "\u001b[?25hInstalling collected packages: outcome, h11, exceptiongroup, wsproto, trio, trio-websocket, selenium\n",
      "Successfully installed exceptiongroup-1.1.1 h11-0.14.0 outcome-1.2.0 selenium-4.8.3 trio-0.22.0 trio-websocket-0.10.2 wsproto-1.2.0\n",
      "Note: you may need to restart the kernel to use updated packages.\n"
     ]
    }
   ],
   "source": [
    "pip install selenium"
   ]
  },
  {
   "cell_type": "code",
   "execution_count": 16,
   "id": "f48c3d04-bffe-41a1-b063-ef7bbdc176da",
   "metadata": {},
   "outputs": [
    {
     "name": "stdout",
     "output_type": "stream",
     "text": [
      "Requirement already satisfied: webdriver_manager in /opt/conda/lib/python3.10/site-packages (3.8.5)\n",
      "Requirement already satisfied: requests in /opt/conda/lib/python3.10/site-packages (from webdriver_manager) (2.28.1)\n",
      "Requirement already satisfied: python-dotenv in /opt/conda/lib/python3.10/site-packages (from webdriver_manager) (1.0.0)\n",
      "Requirement already satisfied: packaging in /opt/conda/lib/python3.10/site-packages (from webdriver_manager) (22.0)\n",
      "Requirement already satisfied: tqdm in /opt/conda/lib/python3.10/site-packages (from webdriver_manager) (4.64.1)\n",
      "Requirement already satisfied: certifi>=2017.4.17 in /opt/conda/lib/python3.10/site-packages (from requests->webdriver_manager) (2022.12.7)\n",
      "Requirement already satisfied: urllib3<1.27,>=1.21.1 in /opt/conda/lib/python3.10/site-packages (from requests->webdriver_manager) (1.26.13)\n",
      "Requirement already satisfied: idna<4,>=2.5 in /opt/conda/lib/python3.10/site-packages (from requests->webdriver_manager) (3.4)\n",
      "Requirement already satisfied: charset-normalizer<3,>=2 in /opt/conda/lib/python3.10/site-packages (from requests->webdriver_manager) (2.1.1)\n",
      "Note: you may need to restart the kernel to use updated packages.\n"
     ]
    }
   ],
   "source": [
    "pip install webdriver_manager\n"
   ]
  },
  {
   "cell_type": "code",
   "execution_count": null,
   "id": "8305a955-379c-4d82-9f02-62d02f40987c",
   "metadata": {},
   "outputs": [],
   "source": [
    "from bs4 import BeautifulSoup\n",
    "from selenium import webdriver\n",
    "# from selenium.webdriver.chrome.service import Service\n",
    "from webdriver_manager.chrome import ChromeDriverManager\n",
    "\n",
    "driver = webdriver.Chrome(executable_path=ChromeDriverManager().install())\n",
    "\n",
    "\n",
    "driver.get(\"https://www.youtube.com/@PW-Foundation/videos\")\n",
    "\n",
    "\n",
    "content = driver.page_source\n",
    "\n",
    "soup = BeautifulSoup(content,\"html.parser\")\n",
    "\n",
    "video_url = soup.find_all('a',{\"class\":\"yt-simple-endpoint inline-block style-scope ytd-thumbnail\"})\n",
    "\n",
    "\n",
    "for i in video_url[1:6]:\n",
    "    print(\"https://www.youtube.com\"+i['href'])"
   ]
  },
  {
   "cell_type": "markdown",
   "id": "b31b6247-e73d-404b-aba3-85406f9714dc",
   "metadata": {},
   "source": [
    "\n",
    "Q2. Write a python program to extract the URL of the video thumbnails of the first five videos."
   ]
  },
  {
   "cell_type": "code",
   "execution_count": 26,
   "id": "cfd82bce-1348-4d9c-b991-1e7fd24828e6",
   "metadata": {},
   "outputs": [],
   "source": [
    "from bs4 import BeautifulSoup\n",
    "import requests\n"
   ]
  },
  {
   "cell_type": "code",
   "execution_count": null,
   "id": "33eb09a3-61aa-40c7-b53e-bdbf9f524447",
   "metadata": {},
   "outputs": [],
   "source": [
    "\n",
    "thumbnail_url =Soup.find_all('img',{'class':\"yt-core-image--fill-parent-height yt-core-image--fill-parent-width yt-core-image yt-core-image--content-mode-scale-aspect-fill yt-core-image--loaded\"})\n",
    "\n",
    "for index,img_url in enumerate(thumbnail_url):\n",
    "    print(thumbnail_url[index]['src'])"
   ]
  },
  {
   "cell_type": "markdown",
   "id": "50522727-c4b3-4432-863e-670aa8095df7",
   "metadata": {},
   "source": [
    "Q3. Write a python program to extract the title of the first five videos."
   ]
  },
  {
   "cell_type": "code",
   "execution_count": null,
   "id": "3de1cfe1-0184-491a-9876-b89e945f1158",
   "metadata": {},
   "outputs": [],
   "source": [
    "title_video = soup.find_all('a',{'class':'yt-simple-endpoint focus-on-expand style-scope ytd-rich-grid-media'})\n",
    "\n",
    "titles_ls = []\n",
    "for index, title in enumerate(title_video):\n",
    "    if len(titles_ls) >= 5:\n",
    "        pass\n",
    "    else:\n",
    "        titles_ls.append(title_video[index].text)\n",
    "for title in titles_ls:\n",
    "    print(title)"
   ]
  },
  {
   "cell_type": "markdown",
   "id": "49279836-a3d8-4879-8b73-67c4205513e5",
   "metadata": {},
   "source": [
    "Q4. Write a python program to extract the number of views of the first five videos."
   ]
  },
  {
   "cell_type": "code",
   "execution_count": null,
   "id": "c02d61ae-c198-44e4-8afb-b2d1fe6e3ca3",
   "metadata": {},
   "outputs": [],
   "source": [
    "video_views = soup.find_all('span',{'class':'inline-metadata-item style-scope ytd-video-meta-block'})\n",
    "\n",
    "\n",
    "all_views = []\n",
    "\n",
    "\n",
    "import re\n",
    "for index,views in enumerate(video_views):\n",
    "    if len(all_views) >=5:\n",
    "        pass\n",
    "    else:\n",
    "        if re.search(\"^[0-9].*views$\",video_views[index].text):\n",
    "            all_views.append(views.text)\n",
    "\n",
    "\n",
    "for views in all_views:\n",
    "    print(views)"
   ]
  },
  {
   "cell_type": "markdown",
   "id": "04ea0237-22e6-48ba-b4c9-290fba83a8a6",
   "metadata": {},
   "source": [
    "Q5. Write a python program to extract the time of posting of video for the first five videos"
   ]
  },
  {
   "cell_type": "code",
   "execution_count": null,
   "id": "432b1202-f942-4838-9000-871f674e09cd",
   "metadata": {},
   "outputs": [],
   "source": [
    "uploaded_time = soup.find_all('span',{'class':'inline-metadata-item style-scope ytd-video-meta-block'})\n",
    "\n",
    "\n",
    "uplodedtimelist = []\n",
    "\n",
    "\n",
    "for index,time in enumerate(uploaded_time):\n",
    "    if len(uplodedtimelist) >= 5:\n",
    "        pass\n",
    "    else:\n",
    "        if re.search(\"[0-9].*ago$\",uploaded_time[index].text):\n",
    "            uplodedtimelist.append(uploaded_time[index].text)\n",
    "\n",
    "\n",
    "for time in uplodedtimelist:\n",
    "    print(time)"
   ]
  },
  {
   "cell_type": "code",
   "execution_count": null,
   "id": "0c4fe83d-79f9-4c17-97c8-0d9278a13cdf",
   "metadata": {},
   "outputs": [],
   "source": []
  }
 ],
 "metadata": {
  "kernelspec": {
   "display_name": "Python 3 (ipykernel)",
   "language": "python",
   "name": "python3"
  },
  "language_info": {
   "codemirror_mode": {
    "name": "ipython",
    "version": 3
   },
   "file_extension": ".py",
   "mimetype": "text/x-python",
   "name": "python",
   "nbconvert_exporter": "python",
   "pygments_lexer": "ipython3",
   "version": "3.10.8"
  }
 },
 "nbformat": 4,
 "nbformat_minor": 5
}

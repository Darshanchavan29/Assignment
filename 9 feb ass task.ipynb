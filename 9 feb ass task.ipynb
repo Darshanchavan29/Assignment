{
 "cells": [
  {
   "cell_type": "markdown",
   "id": "fd7b1586-db84-44b9-baf7-f805d1e6cff1",
   "metadata": {},
   "source": [
    "Q1, Create a vehicle class with an init method having instance variables as name_of_vehicle, max_speed\n",
    "and average_of_vehicle."
   ]
  },
  {
   "cell_type": "code",
   "execution_count": 5,
   "id": "cf363227-bafe-488f-90be-a353bf571d0b",
   "metadata": {},
   "outputs": [],
   "source": [
    "class vahicle:\n",
    "    def __init__(self,name_of_vahicle,max_speed,average_of_vahicle):\n",
    "        self.name_of_vahicle=name_of_vahicle\n",
    "        self.max_speed=max_speed\n",
    "        self.average_of_vahicle=average_of_vahicle\n",
    "        \n",
    "    "
   ]
  },
  {
   "cell_type": "markdown",
   "id": "02b31d86-30ec-47ba-bf98-4f0f5af92778",
   "metadata": {},
   "source": [
    "Q2. Create a child class car from the vehicle class created in Que 1, which will inherit the vehicle class.\n",
    "Create a method named seating_capacity which takes capacity as an argument and returns the name of\n",
    "the vehicle and its seating capacity."
   ]
  },
  {
   "cell_type": "code",
   "execution_count": 6,
   "id": "cf18802d-7510-492d-b199-49f45cc24dee",
   "metadata": {},
   "outputs": [],
   "source": [
    "class car(vahicle):\n",
    "    def seating_capacity(self,capacity):\n",
    "        return self.name_of_vahicle,capacity"
   ]
  },
  {
   "cell_type": "code",
   "execution_count": 7,
   "id": "9c95d85b-3c63-42c2-9744-c974211172e6",
   "metadata": {},
   "outputs": [
    {
     "data": {
      "text/plain": [
       "('crysta', 7)"
      ]
     },
     "execution_count": 7,
     "metadata": {},
     "output_type": "execute_result"
    }
   ],
   "source": [
    "obj_class=car(\"crysta\",200,10)\n",
    "obj_class.seating_capacity(7)"
   ]
  },
  {
   "cell_type": "markdown",
   "id": "f3302553-de5e-48e5-9aec-c6d90b075eda",
   "metadata": {},
   "source": [
    "Q3. What is multiple inheritance? Write a python code to demonstrate multiple inheritance."
   ]
  },
  {
   "cell_type": "code",
   "execution_count": 16,
   "id": "646437ce-df46-4c24-a1a1-b44c414cec4c",
   "metadata": {},
   "outputs": [
    {
     "name": "stdout",
     "output_type": "stream",
     "text": [
      "In Class4\n",
      "In Class2\n",
      "In Class3\n",
      "In Class1\n"
     ]
    }
   ],
   "source": [
    "\"\"\"\n",
    "when a class is derived from multiple classes then it would be called multiple inheritance\n",
    "the derived class inherit all the features of class from which it was derived or inherited\n",
    "\"\"\"\n",
    "# Python program to demonstrate\n",
    "# super()\n",
    "\n",
    "class Class1:\n",
    "    def darshan(self):\n",
    "        print(\"In Class1\")\n",
    "\n",
    "class Class2(Class1):\n",
    "    def darshan(self):\n",
    "        print(\"In Class2\")\n",
    "        super().darshan()\n",
    "\n",
    "class Class3(Class1):\n",
    "    def darshan(self):\n",
    "        print(\"In Class3\")\n",
    "        super().darshan()\n",
    "\n",
    "class Class4(Class2, Class3):\n",
    "    def darshan(self):\n",
    "        print(\"In Class4\")\n",
    "        super().darshan()\n",
    "obj = Class4()\n",
    "obj.darshan()\n"
   ]
  },
  {
   "cell_type": "markdown",
   "id": "b10c75c5-432b-45c5-98b8-f29f86bf5a98",
   "metadata": {},
   "source": [
    "Q4. What are getter and setter in python? Create a class and create a getter and a setter method in this\n",
    "class."
   ]
  },
  {
   "cell_type": "code",
   "execution_count": 17,
   "id": "83d88356-af15-43d8-8c0d-e8a1f17eada3",
   "metadata": {},
   "outputs": [
    {
     "data": {
      "text/plain": [
       "'Darshan'"
      ]
     },
     "execution_count": 17,
     "metadata": {},
     "output_type": "execute_result"
    }
   ],
   "source": [
    "\"\"\"\n",
    "Getter and Setter in python are methods which used to access or assign the values of an object's properties\n",
    "they return the value of a specific property and typically defined by using @decorator\n",
    "@property used for getter which generally don't take any input or args \n",
    "@settermethodname.setter used for setter and this takes value which we supposed to assign to \n",
    "if getter and setter have different name than setter name must be of getter method name \n",
    "also to add setter method getter method is must in the class else setter not defined error will be shown\n",
    "\"\"\"\n",
    "\n",
    "class Myclass:\n",
    "    def __init__(self, name ):\n",
    "        self._name = name \n",
    "    \n",
    "    #getter\n",
    "    @property \n",
    "    def get_name(self):\n",
    "        return self._name\n",
    "    \n",
    "    #setter\n",
    "    @get_name.setter   \n",
    "    #here we use our getter name\n",
    "    def set_name(self, name):\n",
    "        self._name = name\n",
    "    \n",
    "    \n",
    "    \n",
    "class_obj = Myclass(\"Darshan\")\n",
    "#getting  name via getter\n",
    "class_obj.get_name"
   ]
  },
  {
   "cell_type": "markdown",
   "id": "45305b5e-73ed-47b8-bc44-d662f1b0453f",
   "metadata": {},
   "source": [
    "Q5.What is method overriding in python? Write a python code to demonstrate method overriding."
   ]
  },
  {
   "cell_type": "code",
   "execution_count": 18,
   "id": "c4e0dee0-5ac2-4b52-ad5f-66fb5668953f",
   "metadata": {},
   "outputs": [],
   "source": [
    "\"\"\"\n",
    "method of changing inherited method in child class from parent class\n",
    "How method overriding could be achieved??\n",
    "simply initialize same method in child class with desired functionalities and we can use parent method too using \n",
    "super() keyword\n",
    "\"\"\"\n",
    "class Shape():\n",
    "    def __init__(self,x,y):\n",
    "        self.x = x \n",
    "        self.y = y \n",
    "    def area(self):\n",
    "        return self.x * self.y\n",
    "class Circle(Shape):\n",
    "    def __init__(self,radius):\n",
    "        self.radius = radius \n",
    "        #to initialize and complete init requirement x,y\n",
    "        super().__init__(radius,radius)\n",
    "    \n",
    "    #overriding Shape area method\n",
    "    def area(self):\n",
    "        return 3.14 * super().area() "
   ]
  },
  {
   "cell_type": "code",
   "execution_count": 20,
   "id": "00d9e553-9348-4796-b454-0eca4a97f642",
   "metadata": {},
   "outputs": [
    {
     "data": {
      "text/plain": [
       "25"
      ]
     },
     "execution_count": 20,
     "metadata": {},
     "output_type": "execute_result"
    }
   ],
   "source": [
    "class_obj = Shape(5,5)\n",
    "class_obj.area()"
   ]
  },
  {
   "cell_type": "code",
   "execution_count": null,
   "id": "51427390-48b1-45c0-b61f-a198d5a063f3",
   "metadata": {},
   "outputs": [],
   "source": [
    "class_obj=circle(5)\n",
    "class_obj.circ()"
   ]
  }
 ],
 "metadata": {
  "kernelspec": {
   "display_name": "Python 3 (ipykernel)",
   "language": "python",
   "name": "python3"
  },
  "language_info": {
   "codemirror_mode": {
    "name": "ipython",
    "version": 3
   },
   "file_extension": ".py",
   "mimetype": "text/x-python",
   "name": "python",
   "nbconvert_exporter": "python",
   "pygments_lexer": "ipython3",
   "version": "3.10.8"
  }
 },
 "nbformat": 4,
 "nbformat_minor": 5
}

{
 "cells": [
  {
   "cell_type": "markdown",
   "id": "259f2850-e53c-4853-a2fd-00600a9f0410",
   "metadata": {},
   "source": [
    "Q1. Create a Pandas Series that contains the following data: 4, 8, 15, 16, 23, and 42. Then, print the series."
   ]
  },
  {
   "cell_type": "code",
   "execution_count": 1,
   "id": "106c877e-fbef-42c3-a209-19a915212bf5",
   "metadata": {},
   "outputs": [],
   "source": [
    "import pandas as pd"
   ]
  },
  {
   "cell_type": "code",
   "execution_count": 3,
   "id": "af7d8142-34ba-4dc8-88bb-00410a38f393",
   "metadata": {},
   "outputs": [],
   "source": [
    "d=pd.Series([4,8,15,16,23,42])"
   ]
  },
  {
   "cell_type": "code",
   "execution_count": 4,
   "id": "9c98a1bc-c8e0-4ca9-abf4-f9235e0f1c7f",
   "metadata": {},
   "outputs": [
    {
     "name": "stdout",
     "output_type": "stream",
     "text": [
      "0     4\n",
      "1     8\n",
      "2    15\n",
      "3    16\n",
      "4    23\n",
      "5    42\n",
      "dtype: int64\n"
     ]
    }
   ],
   "source": [
    "print(d)"
   ]
  },
  {
   "cell_type": "markdown",
   "id": "e9203e6c-061b-427c-8d9f-f8263ede632f",
   "metadata": {},
   "source": [
    "Q2. Create a variable of list type containing 10 elements in it, and apply pandas.Series function on the\n",
    "variable print it."
   ]
  },
  {
   "cell_type": "code",
   "execution_count": 6,
   "id": "4775b2ed-fb79-44e7-8ca2-5c0c57d67a6e",
   "metadata": {},
   "outputs": [
    {
     "name": "stdout",
     "output_type": "stream",
     "text": [
      "0     1\n",
      "1     3\n",
      "2     2\n",
      "3     5\n",
      "4    44\n",
      "5     6\n",
      "6     7\n",
      "7    44\n",
      "8    55\n",
      "9     3\n",
      "dtype: int64\n"
     ]
    }
   ],
   "source": [
    "data=[1,3,2,5,44,6,7,44,55,3]\n",
    "c=pd.Series(data)\n",
    "print(c)\n"
   ]
  },
  {
   "cell_type": "markdown",
   "id": "a46e4435-e643-44e2-b534-6c76c11e39c9",
   "metadata": {},
   "source": [
    "Q3. Create a Pandas DataFrame that contains the following data:\n",
    "\n"
   ]
  },
  {
   "cell_type": "raw",
   "id": "f90e8575-2604-4764-85f0-e67517483614",
   "metadata": {},
   "source": [
    "Name\tAge\tGender\n",
    "Alice\t25\tFemale\n",
    "Bob\t    30\tMale\n",
    "Claire\t27\tFemale"
   ]
  },
  {
   "cell_type": "markdown",
   "id": "7848efcb-80dc-47e2-8c20-a41fc3663a99",
   "metadata": {},
   "source": [
    "Then, print the DataFrame."
   ]
  },
  {
   "cell_type": "code",
   "execution_count": 17,
   "id": "10970941-64f3-4426-b2c9-b504a48981b3",
   "metadata": {},
   "outputs": [],
   "source": [
    "data1=({\"Name\":[\"Alice\",\"Bob\",\"Claire\"],\"Age\":[25,30,27],\"Gender\":[\"Female\",\"Male\",\"Female\"]})"
   ]
  },
  {
   "cell_type": "code",
   "execution_count": 18,
   "id": "3d7d5344-277f-43dc-a337-4948e4abfd01",
   "metadata": {},
   "outputs": [],
   "source": [
    "df=pd.DataFrame(data1)"
   ]
  },
  {
   "cell_type": "code",
   "execution_count": 24,
   "id": "eb12938b-86ec-48b7-84c9-0c921c573393",
   "metadata": {},
   "outputs": [
    {
     "data": {
      "text/html": [
       "<div>\n",
       "<style scoped>\n",
       "    .dataframe tbody tr th:only-of-type {\n",
       "        vertical-align: middle;\n",
       "    }\n",
       "\n",
       "    .dataframe tbody tr th {\n",
       "        vertical-align: top;\n",
       "    }\n",
       "\n",
       "    .dataframe thead th {\n",
       "        text-align: right;\n",
       "    }\n",
       "</style>\n",
       "<table border=\"1\" class=\"dataframe\">\n",
       "  <thead>\n",
       "    <tr style=\"text-align: right;\">\n",
       "      <th></th>\n",
       "      <th>Name</th>\n",
       "      <th>Age</th>\n",
       "      <th>Gender</th>\n",
       "    </tr>\n",
       "  </thead>\n",
       "  <tbody>\n",
       "    <tr>\n",
       "      <th>0</th>\n",
       "      <td>Alice</td>\n",
       "      <td>25</td>\n",
       "      <td>Female</td>\n",
       "    </tr>\n",
       "    <tr>\n",
       "      <th>1</th>\n",
       "      <td>Bob</td>\n",
       "      <td>30</td>\n",
       "      <td>Male</td>\n",
       "    </tr>\n",
       "    <tr>\n",
       "      <th>2</th>\n",
       "      <td>Claire</td>\n",
       "      <td>27</td>\n",
       "      <td>Female</td>\n",
       "    </tr>\n",
       "  </tbody>\n",
       "</table>\n",
       "</div>"
      ],
      "text/plain": [
       "     Name  Age  Gender\n",
       "0   Alice   25  Female\n",
       "1     Bob   30    Male\n",
       "2  Claire   27  Female"
      ]
     },
     "execution_count": 24,
     "metadata": {},
     "output_type": "execute_result"
    }
   ],
   "source": [
    "df"
   ]
  },
  {
   "cell_type": "markdown",
   "id": "52333735-4690-4ef0-a0bb-c1b1d8c5d38a",
   "metadata": {},
   "source": [
    "Q4. What is ‘DataFrame’ in pandas and how is it different from pandas.series? Explain with an example."
   ]
  },
  {
   "cell_type": "code",
   "execution_count": 20,
   "id": "f3c45ce7-7264-4d4e-9682-3e255afd7062",
   "metadata": {},
   "outputs": [
    {
     "data": {
      "text/plain": [
       "'\\npandas.Series is a one dimensional array where as pandas.DataFrame is a Two dimensional array \\nSeries is a set of observation related to a single variable in series Data consistency is followed ie. in each column of series \\nobject have only one single type of value stored in it \\n\\nand DataFrame is a collection of series object containing Rows and Columns \\nDataFrame too obeys Data consistency but limited to column ie. same type of value in columns not throught out the DataFrame or array \\n'"
      ]
     },
     "execution_count": 20,
     "metadata": {},
     "output_type": "execute_result"
    }
   ],
   "source": [
    "\"\"\"\n",
    "pandas.Series is a one dimensional array where as pandas.DataFrame is a Two dimensional array \n",
    "Series is a set of observation related to a single variable in series Data consistency is followed ie. in each column of series \n",
    "object have only one single type of value stored in it \n",
    "\n",
    "and DataFrame is a collection of series object containing Rows and Columns \n",
    "DataFrame too obeys Data consistency but limited to column ie. same type of value in columns not throught out the DataFrame or array \n",
    "\"\"\"\n",
    "\n",
    "# Series type showcased in Question 1 & 2 while DataFrame shown in Question 3 \n",
    "# in que 3 each column preserve the type "
   ]
  },
  {
   "cell_type": "markdown",
   "id": "b6a463e7-f919-4e22-8694-7999bac9227d",
   "metadata": {},
   "source": [
    "Q5. What are some common functions you can use to manipulate data in a Pandas DataFrame? Can\n",
    "you give an example of when you might use one of these functions?"
   ]
  },
  {
   "cell_type": "code",
   "execution_count": 25,
   "id": "85e50e5b-cb61-40ac-bc1d-7235392529e1",
   "metadata": {},
   "outputs": [],
   "source": [
    "# Common Functions in pandas \n",
    "#Read - to read files like html, csv, excel and many more like such (sytnax df.read('link/location/name of file'))\n",
    "#head() - display top 5 rows from Datasets (if args pass then that much rows will be displayed)\n",
    "#shape - shows dimensions of our dataframe\n",
    "#info() - display various info about our data like colmn name , its type, no. of non null values \n",
    "#to_datetime() - DateTime obj in file read as string while reading csv file soo this use to again change back to datatime obj\n",
    "#isnull()/sum() - through this we can find no. of null values in df\n",
    "# drop() -used to drop any particular column {syntax: df.drop(['country_name'],axis = 1 , inplace =True)\n",
    "#describe() - to get particular info about like count, mean, standard deviation, min, and 25,50,75,max values \n",
    "#fillna() - if values passed in arguments to any missing or null value present in df\n",
    "# df['country_name'].fillna('Nan')\n",
    "# and soo many other functions are there to manipulate data \n",
    "\n",
    "#loc and iloc() is highly used to slice data from panda df \n",
    "\n",
    "# loc - select by labels : df.loc[:5,['driver_age','voilation']] this gave first first 6 rows for driver_age and voilation data \n",
    "# iloc - select by positions. this slice the df in specified rows and columns range\n",
    "# df.iloc(:5,:5) first 5 rows and first 5 columns\n",
    "\n",
    "#iloc arguments are purely integer based whereas loc args could be int or conditions "
   ]
  },
  {
   "cell_type": "markdown",
   "id": "e5488bb7-c5e0-47de-9736-1fae8870411d",
   "metadata": {},
   "source": [
    "Q6. Which of the following is mutable in nature Series, DataFrame, Panel?"
   ]
  },
  {
   "cell_type": "code",
   "execution_count": 26,
   "id": "baaed66c-a726-4c63-ae7b-f7411e148d99",
   "metadata": {},
   "outputs": [],
   "source": [
    "# All three data structure - Series, DataFrame and Panel are mutable in nature. This means that their values can be changed \n",
    "# after they have been created. However while Df and Panels are both size mutable ie. their size can be changed but Series\n",
    "# is only value mutalbe means its size can't be changed"
   ]
  },
  {
   "cell_type": "markdown",
   "id": "b469a98e-4dba-43b8-b590-898101993f91",
   "metadata": {},
   "source": [
    "Q7. Create a DataFrame using multiple Series. Explain with an example."
   ]
  },
  {
   "cell_type": "code",
   "execution_count": 27,
   "id": "a6c3391c-868a-4b07-8f61-cafb2f8a960c",
   "metadata": {},
   "outputs": [
    {
     "data": {
      "text/html": [
       "<div>\n",
       "<style scoped>\n",
       "    .dataframe tbody tr th:only-of-type {\n",
       "        vertical-align: middle;\n",
       "    }\n",
       "\n",
       "    .dataframe tbody tr th {\n",
       "        vertical-align: top;\n",
       "    }\n",
       "\n",
       "    .dataframe thead th {\n",
       "        text-align: right;\n",
       "    }\n",
       "</style>\n",
       "<table border=\"1\" class=\"dataframe\">\n",
       "  <thead>\n",
       "    <tr style=\"text-align: right;\">\n",
       "      <th></th>\n",
       "      <th>writer</th>\n",
       "      <th>title</th>\n",
       "      <th>price</th>\n",
       "    </tr>\n",
       "  </thead>\n",
       "  <tbody>\n",
       "    <tr>\n",
       "      <th>0</th>\n",
       "      <td>mark</td>\n",
       "      <td>cookbook</td>\n",
       "      <td>2453.0</td>\n",
       "    </tr>\n",
       "    <tr>\n",
       "      <th>1</th>\n",
       "      <td>barket</td>\n",
       "      <td>html5</td>\n",
       "      <td>460.5</td>\n",
       "    </tr>\n",
       "    <tr>\n",
       "      <th>2</th>\n",
       "      <td>tom</td>\n",
       "      <td>python</td>\n",
       "      <td>12.5</td>\n",
       "    </tr>\n",
       "    <tr>\n",
       "      <th>3</th>\n",
       "      <td>job</td>\n",
       "      <td>numpy</td>\n",
       "      <td>50.0</td>\n",
       "    </tr>\n",
       "  </tbody>\n",
       "</table>\n",
       "</div>"
      ],
      "text/plain": [
       "   writer     title   price\n",
       "0    mark  cookbook  2453.0\n",
       "1  barket     html5   460.5\n",
       "2     tom    python    12.5\n",
       "3     job     numpy    50.0"
      ]
     },
     "execution_count": 27,
     "metadata": {},
     "output_type": "execute_result"
    }
   ],
   "source": [
    "import pandas as pd\n",
    "s1 = pd.Series(['mark','barket','tom','job'],name='writer')\n",
    "s2 = pd.Series(['cookbook','html5','python','numpy'],name = 'title')\n",
    "s3 = pd.Series([2453,460.50,12.50,50.00],name = 'price',)\n",
    "\n",
    "df = pd.concat([s1,s2,s3],axis = 1)\n",
    "df"
   ]
  },
  {
   "cell_type": "code",
   "execution_count": null,
   "id": "5f525f60-9566-4596-837e-3bc70f80e947",
   "metadata": {},
   "outputs": [],
   "source": []
  }
 ],
 "metadata": {
  "kernelspec": {
   "display_name": "Python 3 (ipykernel)",
   "language": "python",
   "name": "python3"
  },
  "language_info": {
   "codemirror_mode": {
    "name": "ipython",
    "version": 3
   },
   "file_extension": ".py",
   "mimetype": "text/x-python",
   "name": "python",
   "nbconvert_exporter": "python",
   "pygments_lexer": "ipython3",
   "version": "3.10.8"
  }
 },
 "nbformat": 4,
 "nbformat_minor": 5
}

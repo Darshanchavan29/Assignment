{
 "cells": [
  {
   "cell_type": "markdown",
   "id": "ccc4707b-19e1-42fa-b51e-863ab3336367",
   "metadata": {},
   "source": [
    "Q1. Which function is used to open a file? What are the different modes of opening a file? Explain each mode\n",
    "of file opening.\n"
   ]
  },
  {
   "cell_type": "code",
   "execution_count": 2,
   "id": "eaeaf709-f3eb-4cea-a9b4-466470640596",
   "metadata": {},
   "outputs": [
    {
     "data": {
      "text/plain": [
       "'\\nDifferent mode for opening a file as such:\\nr - to open in read mode(##default)\\nw - to open in write mode(wipe out all existing data and paste current one)\\na - to open in append mode(preserving older data and adding new into it)\\nx - if not exist then create\\nt - text mode(##default)\\nb - binary mode\\n+ - read & write mode\\n'"
      ]
     },
     "execution_count": 2,
     "metadata": {},
     "output_type": "execute_result"
    }
   ],
   "source": [
    "#open(\"filenameDotExtension\", \"mode_in_which_we_wantTo_openFile\")\n",
    "file = open('test.txt', 'r')\n",
    "\"\"\"\n",
    "Different mode for opening a file as such:\n",
    "r - to open in read mode(##default)\n",
    "w - to open in write mode(wipe out all existing data and paste current one)\n",
    "a - to open in append mode(preserving older data and adding new into it)\n",
    "x - if not exist then create\n",
    "t - text mode(##default)\n",
    "b - binary mode\n",
    "+ - read & write mode\n",
    "\"\"\""
   ]
  },
  {
   "cell_type": "markdown",
   "id": "a2926d4c-ec98-45c5-ba1f-ce004f0f8c77",
   "metadata": {},
   "source": [
    "Q2. Why close() function is used? Why is it important to close a file?"
   ]
  },
  {
   "cell_type": "code",
   "execution_count": 3,
   "id": "4edd6231-de2a-49df-bc85-b39d8996ccdf",
   "metadata": {},
   "outputs": [
    {
     "data": {
      "text/plain": [
       "'\\nclose() function is used to close any opened file via open()\\nit is good to close any file which we open as the file will be locked in for \\nthat specific event or purpose and accessing it outside becomes difficult \\nalso whatever write operation we perform sometimes happens only when we close it\\naccessing it in read mode too in restricted state unless we close it\\n'"
      ]
     },
     "execution_count": 3,
     "metadata": {},
     "output_type": "execute_result"
    }
   ],
   "source": [
    "\"\"\"\n",
    "close() function is used to close any opened file via open()\n",
    "it is good to close any file which we open as the file will be locked in for \n",
    "that specific event or purpose and accessing it outside becomes difficult \n",
    "also whatever write operation we perform sometimes happens only when we close it\n",
    "accessing it in read mode too in restricted state unless we close it\n",
    "\"\"\""
   ]
  },
  {
   "cell_type": "markdown",
   "id": "4aa75054-1a89-41a2-aebe-a6932c71c6c0",
   "metadata": {},
   "source": [
    "Q3. Write a python program to create a text file. Write ‘I want to become a Data Scientist’ in that file. Then\n",
    "close the file. Open this file and read the content of the file."
   ]
  },
  {
   "cell_type": "code",
   "execution_count": 4,
   "id": "a9215e7b-6e17-4a80-8d0f-efe488393101",
   "metadata": {},
   "outputs": [],
   "source": [
    "file = open('text.txt','a')\n",
    "file.write('I want to become a Data Scientist')\n",
    "file.close()"
   ]
  },
  {
   "cell_type": "code",
   "execution_count": 6,
   "id": "7ec71029-bbdb-43f5-b15d-fa32743eb9e8",
   "metadata": {},
   "outputs": [
    {
     "name": "stdout",
     "output_type": "stream",
     "text": [
      "I want to become a Data Scientist\n"
     ]
    }
   ],
   "source": [
    "with open('text.txt','r') as f:\n",
    "    file = f.read()\n",
    "    print(file)\n",
    "#in this method we don't need to close a file with automatically handles closing files"
   ]
  },
  {
   "cell_type": "markdown",
   "id": "cb3000f9-25c5-4d60-94cc-b5d0a71f41d5",
   "metadata": {},
   "source": [
    "Q4. Explain the following with python code: read(), readline() and readlines()."
   ]
  },
  {
   "cell_type": "code",
   "execution_count": 5,
   "id": "3657e9d0-2844-4b41-9ba7-b4dcffc04354",
   "metadata": {},
   "outputs": [],
   "source": [
    "#just writing line of code in our test file to get knowledge of read(), readline() and readlines()\n",
    "with open('test.txt','w') as f: \n",
    "    f.write(\"Data Science Master’s certification\\n\"\n",
    "                \"Self-Paced Learning\\n\"\n",
    "                \"50 + hands-on industry real-time projects\\n\"\n",
    "                \"200+ hours classes\\n\"\n",
    "                \"Every week doubt clearing session\\n\"\n",
    "                \"2 Year Dashboard access\\n\"\n",
    "                \"Course Materials\\n\"\n",
    "                \"Doubt clearing one-to-one\\n\"\n",
    "                \"Doubt clearing through mail and support\\n\"\n",
    "                \"Discord Community\\n\"\n",
    "                \"Assignments\\n\"\n",
    "                \"Quiz in every module\\n\")"
   ]
  },
  {
   "cell_type": "code",
   "execution_count": 7,
   "id": "af897663-ad4c-4b5a-bbae-fcb7c91f92b8",
   "metadata": {},
   "outputs": [
    {
     "name": "stdout",
     "output_type": "stream",
     "text": [
      "This out is from read()\n",
      "\n",
      "Data Science Master’s certification\n",
      "Self-Paced Learning\n",
      "50 + hands-on industry real-time projects\n",
      "200+ hours classes\n",
      "Every week doubt clearing session\n",
      "2 Year Dashboard access\n",
      "Course Materials\n",
      "Doubt clearing one-to-one\n",
      "Doubt clearing through mail and support\n",
      "Discord Community\n",
      "Assignments\n",
      "Quiz in every module\n",
      "\n"
     ]
    }
   ],
   "source": [
    "# read() this read everything in our file \n",
    "# readline() as name suggest readline it read one line at a time and when call again it reads next line and so on \n",
    "# readlines() this read line by line and preserve all the lines in a list and each line as a item in list\n",
    "print(\"This out is from read()\\n\")\n",
    "with open('test.txt','r') as f:\n",
    "    file = f.read()\n",
    "    print(file)"
   ]
  },
  {
   "cell_type": "code",
   "execution_count": 8,
   "id": "88298eaf-3c28-4515-8636-17a2b368f518",
   "metadata": {},
   "outputs": [
    {
     "name": "stdout",
     "output_type": "stream",
     "text": [
      "Data Science Master’s certification\n",
      "\n",
      "Self-Paced Learning\n",
      "\n"
     ]
    }
   ],
   "source": [
    "with open('test.txt','r') as f:\n",
    "    print(f.readline())\n",
    "    print(f.readline())\n",
    "    # as much time we run this readline func as much lines it reads from file one line at a time "
   ]
  },
  {
   "cell_type": "code",
   "execution_count": 9,
   "id": "a60bdbcd-56bc-4ee8-bfb1-efd1f038e8f8",
   "metadata": {},
   "outputs": [
    {
     "name": "stdout",
     "output_type": "stream",
     "text": [
      "['Data Science Master’s certification\\n', 'Self-Paced Learning\\n', '50 + hands-on industry real-time projects\\n', '200+ hours classes\\n', 'Every week doubt clearing session\\n', '2 Year Dashboard access\\n', 'Course Materials\\n', 'Doubt clearing one-to-one\\n', 'Doubt clearing through mail and support\\n', 'Discord Community\\n', 'Assignments\\n', 'Quiz in every module\\n']\n"
     ]
    }
   ],
   "source": [
    "with open('test.txt','r') as f:\n",
    "    file = f.readlines()\n",
    "    print(file)\n",
    "    #this reads all line at once but gave a list of all those lines and all lines are seperate item of list"
   ]
  },
  {
   "cell_type": "markdown",
   "id": "3edd213f-ca8b-4a93-b3f4-5441b43820e7",
   "metadata": {},
   "source": [
    "Q5. Explain why with statement is used with open(). What is the advantage of using with statement and\n",
    "open() together?"
   ]
  },
  {
   "cell_type": "code",
   "execution_count": 10,
   "id": "566d1367-d3b6-4dce-b538-116c22bfc912",
   "metadata": {},
   "outputs": [
    {
     "data": {
      "text/plain": [
       "'\\nwith saves our efforts of manually close() any open() file \\nwith serves as a exception handler if in read mode FileNotFoundError occure it save our code from interruptions\\nwe can open multiple files in one single with block and no need to close them manually \\n\\n'"
      ]
     },
     "execution_count": 10,
     "metadata": {},
     "output_type": "execute_result"
    }
   ],
   "source": [
    "\"\"\"\n",
    "with saves our efforts of manually close() any open() file \n",
    "with serves as a exception handler if in read mode FileNotFoundError occure it save our code from interruptions\n",
    "we can open multiple files in one single with block and no need to close them manually \n",
    "\n",
    "\"\"\""
   ]
  },
  {
   "cell_type": "markdown",
   "id": "906a371b-d64d-4224-b3cd-59630399aafe",
   "metadata": {},
   "source": [
    "Q6. Explain the write() and writelines() functions. Give a suitable example."
   ]
  },
  {
   "cell_type": "code",
   "execution_count": 11,
   "id": "6d90a48d-7cbd-4487-9e30-5c49e39f60c4",
   "metadata": {},
   "outputs": [],
   "source": [
    "seq_list = [\"Data Science Master’s certification\\n\",\n",
    "                \"Self-Paced Learning\\n\",\n",
    "                \"50 + hands-on industry real-time projects\\n\",\n",
    "                \"200+ hours classes\\n\",\n",
    "                \"Every week doubt clearing session\\n\",\n",
    "                \"2 Year Dashboard access\\n\",\n",
    "                \"Course Materials\\n\",\n",
    "                \"Doubt clearing one-to-one\\n\",\n",
    "                \"Doubt clearing through mail and support\\n\",\n",
    "                \"Discord Community\\n\",\n",
    "                \"Assignments\\n\",\n",
    "                \"Quiz in every module\\n\"]"
   ]
  },
  {
   "cell_type": "code",
   "execution_count": 12,
   "id": "5f4073c8-bdbd-4b26-bd0b-ca0fea9b870e",
   "metadata": {},
   "outputs": [],
   "source": [
    "\"\"\"\n",
    "Write writes a string content to the referenced file \n",
    "whereas writelines writes a list of content to a file\n",
    "\"\"\"\n",
    "# code for write \n",
    "with open('test.txt','w') as f: \n",
    "#     f.write(seq_list) # this gave us an error as write just accept a string as an argument \n",
    "    f.write(\"Data Science Master’s certification\\n\"\n",
    "                \"Self-Paced Learning\\n\")\n",
    "    \n",
    "# code for writelines \n",
    "with open('test.txt','w') as f: \n",
    "    f.writelines(seq_list) # whereas this accept only sequence of string in list "
   ]
  },
  {
   "cell_type": "code",
   "execution_count": null,
   "id": "f02c89d7-9f88-4f2b-b6f3-d261f2cf6924",
   "metadata": {},
   "outputs": [],
   "source": []
  }
 ],
 "metadata": {
  "kernelspec": {
   "display_name": "Python 3 (ipykernel)",
   "language": "python",
   "name": "python3"
  },
  "language_info": {
   "codemirror_mode": {
    "name": "ipython",
    "version": 3
   },
   "file_extension": ".py",
   "mimetype": "text/x-python",
   "name": "python",
   "nbconvert_exporter": "python",
   "pygments_lexer": "ipython3",
   "version": "3.10.8"
  }
 },
 "nbformat": 4,
 "nbformat_minor": 5
}

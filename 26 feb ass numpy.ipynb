{
 "cells": [
  {
   "cell_type": "code",
   "execution_count": 1,
   "id": "632cdec8-ea3c-4764-85b4-5b3f4e51093e",
   "metadata": {},
   "outputs": [],
   "source": [
    "# Consider the below code to answer further questions:\n",
    "import numpy as np\n",
    "list_ = [ '1', '2', '3','4','5' ]\n",
    "array_list = np.array(object = list_)"
   ]
  },
  {
   "cell_type": "markdown",
   "id": "1855f2c1-1c21-4551-83e4-b4763bc42e2a",
   "metadata": {},
   "source": [
    "Q1. Is there any difference in the data type of variables list_ and array_list? If there is then write a code\n",
    "to print the data types of both the variables.\n"
   ]
  },
  {
   "cell_type": "code",
   "execution_count": 3,
   "id": "0e2262c9-e0df-4874-8f6c-d0673149ce89",
   "metadata": {},
   "outputs": [
    {
     "name": "stdout",
     "output_type": "stream",
     "text": [
      "<class 'list'>\n",
      "<class 'numpy.ndarray'>\n"
     ]
    }
   ],
   "source": [
    "# Both array_list and List_ are different from each other \n",
    "# list_ is a list data type while array_list is an array data type\n",
    "\n",
    "# code \n",
    "print(type(list_))\n",
    "print(type(array_list))"
   ]
  },
  {
   "cell_type": "markdown",
   "id": "f455e6f8-1ba1-4b14-babb-80ede368cae0",
   "metadata": {},
   "source": [
    "Q2. Write a code to print the data type of each and every element of both the variables list_ and\n",
    "arra_list."
   ]
  },
  {
   "cell_type": "code",
   "execution_count": 4,
   "id": "7ba9d3b5-9e27-4c9c-a534-4f7d5ff98ed8",
   "metadata": {},
   "outputs": [
    {
     "name": "stdout",
     "output_type": "stream",
     "text": [
      "<class 'str'>\n",
      "<class 'str'>\n",
      "<class 'str'>\n",
      "<class 'str'>\n",
      "<class 'str'>\n",
      "now array list i type\n",
      "<class 'numpy.str_'>\n",
      "<class 'numpy.str_'>\n",
      "<class 'numpy.str_'>\n",
      "<class 'numpy.str_'>\n",
      "<class 'numpy.str_'>\n"
     ]
    }
   ],
   "source": [
    "for i in list_: \n",
    "    print(type(i))\n",
    "print('now array list i type')\n",
    "for i in array_list:\n",
    "    print(type(i))"
   ]
  },
  {
   "cell_type": "markdown",
   "id": "afb8a3fe-5006-45ce-90f3-c0bf4091d0d4",
   "metadata": {},
   "source": [
    "Q3. Considering the following changes in the variable, array_list:\n",
    "array_list = np.array(object = list_, dtype = int)\n",
    "Will there be any difference in the data type of the elements present in both the variables, list_ and\n",
    "arra_list? If so then print the data types of each and every element present in both the variables, list_\n",
    "and arra_list.\n"
   ]
  },
  {
   "cell_type": "markdown",
   "id": "bb4e44a4-c4d3-4d3b-bff2-ed564717a40c",
   "metadata": {},
   "source": [
    "Consider the below code to answer further questions:\n",
    "import numpy as np\n",
    "num_list = [ [ 1 , 2 , 3 ] , [ 4 , 5 , 6 ] ]\n",
    "num_array = np.array(object = num_list)"
   ]
  },
  {
   "cell_type": "code",
   "execution_count": 5,
   "id": "7dc68e53-cbd1-4ab3-aa53-333cbb84a0c6",
   "metadata": {},
   "outputs": [],
   "source": [
    "array_list = np.array(object= list_ ,dtype = int)"
   ]
  },
  {
   "cell_type": "code",
   "execution_count": 6,
   "id": "26dace97-7a87-409a-b5fc-b5767d2d9774",
   "metadata": {},
   "outputs": [
    {
     "name": "stdout",
     "output_type": "stream",
     "text": [
      "<class 'numpy.int64'>\n",
      "<class 'numpy.int64'>\n",
      "<class 'numpy.int64'>\n",
      "<class 'numpy.int64'>\n",
      "<class 'numpy.int64'>\n"
     ]
    }
   ],
   "source": [
    "for elements in array_list: \n",
    "    print(type(elements))\n",
    "# list_ elements type remains the same as we made no change to it"
   ]
  },
  {
   "cell_type": "code",
   "execution_count": 7,
   "id": "96f676e8-7f3e-41a1-81b0-20804543223b",
   "metadata": {},
   "outputs": [],
   "source": [
    "import numpy as np\n",
    "num_list = [ [ 1 , 2 , 3 ] , [ 4 , 5 , 6 ] ]\n",
    "num_array = np.array(object = num_list)"
   ]
  },
  {
   "cell_type": "markdown",
   "id": "d8b0b8ec-6498-48d6-a091-7277b5b31730",
   "metadata": {},
   "source": [
    "Q4. Write a code to find the following characteristics of variable, num_array:\n",
    "(i) shape\n",
    "(ii) size"
   ]
  },
  {
   "cell_type": "code",
   "execution_count": 8,
   "id": "2a742f3c-a270-4dd0-b6ac-2e6fc3c5b4a3",
   "metadata": {},
   "outputs": [
    {
     "data": {
      "text/plain": [
       "(2, 3)"
      ]
     },
     "execution_count": 8,
     "metadata": {},
     "output_type": "execute_result"
    }
   ],
   "source": [
    "#(i) shape\n",
    "# Return the shape of the numpy array, shape like no. of rows, column and if 3 D then z axis too \n",
    "num_array.shape"
   ]
  },
  {
   "cell_type": "code",
   "execution_count": 9,
   "id": "c680cc0f-a450-4c4f-a7bb-ea3ae23dd306",
   "metadata": {},
   "outputs": [
    {
     "data": {
      "text/plain": [
       "6"
      ]
     },
     "execution_count": 9,
     "metadata": {},
     "output_type": "execute_result"
    }
   ],
   "source": [
    "# (ii) size\n",
    "# Return the number of elements in our numpy array\n",
    "num_array.size"
   ]
  },
  {
   "cell_type": "markdown",
   "id": "2dc21e42-61a9-4af7-9391-183033de538d",
   "metadata": {},
   "source": [
    "Q5. Write a code to create numpy array of 3*3 matrix containing zeros only, using a numpy array creation function."
   ]
  },
  {
   "cell_type": "code",
   "execution_count": 10,
   "id": "44788845-9090-409d-996e-58ff83d248b4",
   "metadata": {},
   "outputs": [
    {
     "data": {
      "text/plain": [
       "array([[0., 0., 0.],\n",
       "       [0., 0., 0.],\n",
       "       [0., 0., 0.]])"
      ]
     },
     "execution_count": 10,
     "metadata": {},
     "output_type": "execute_result"
    }
   ],
   "source": [
    "np.zeros((3,3)) # zeros method will create an array of passed argument dimension filled with 0 values"
   ]
  },
  {
   "cell_type": "markdown",
   "id": "f0c8a37f-58bd-404a-8ee8-eebfa348dddd",
   "metadata": {},
   "source": [
    "Q6. Create an identity matrix of shape (5,5) using numpy functions?"
   ]
  },
  {
   "cell_type": "code",
   "execution_count": 11,
   "id": "896c351c-aa0b-4466-b3ff-8d15fccb164c",
   "metadata": {},
   "outputs": [
    {
     "data": {
      "text/plain": [
       "array([[1., 0., 0., 0., 0.],\n",
       "       [0., 1., 0., 0., 0.],\n",
       "       [0., 0., 1., 0., 0.],\n",
       "       [0., 0., 0., 1., 0.],\n",
       "       [0., 0., 0., 0., 1.]])"
      ]
     },
     "execution_count": 11,
     "metadata": {},
     "output_type": "execute_result"
    }
   ],
   "source": [
    "np.identity(5) "
   ]
  },
  {
   "cell_type": "code",
   "execution_count": null,
   "id": "55ece0dc-a700-4c5d-be16-17eb75df5582",
   "metadata": {},
   "outputs": [],
   "source": []
  }
 ],
 "metadata": {
  "kernelspec": {
   "display_name": "Python 3 (ipykernel)",
   "language": "python",
   "name": "python3"
  },
  "language_info": {
   "codemirror_mode": {
    "name": "ipython",
    "version": 3
   },
   "file_extension": ".py",
   "mimetype": "text/x-python",
   "name": "python",
   "nbconvert_exporter": "python",
   "pygments_lexer": "ipython3",
   "version": "3.10.8"
  }
 },
 "nbformat": 4,
 "nbformat_minor": 5
}

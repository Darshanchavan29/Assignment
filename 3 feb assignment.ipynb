{
 "cells": [
  {
   "cell_type": "markdown",
   "id": "c15c0a2d-3147-4ffa-b504-7d70e085a4ec",
   "metadata": {},
   "source": [
    "Q1. Which keyword is used to create a function? Create a function to return a list of odd numbers in the\n",
    "range of 1 to 25."
   ]
  },
  {
   "cell_type": "markdown",
   "id": "2a7a03bb-207d-4b17-bd51-8b6b097e70f9",
   "metadata": {},
   "source": [
    "### the def keyword is used to create function"
   ]
  },
  {
   "cell_type": "code",
   "execution_count": 3,
   "id": "7996c850-d7fb-4116-a6e4-3197adde9a53",
   "metadata": {},
   "outputs": [
    {
     "data": {
      "text/plain": [
       "[1, 3, 5, 7, 9, 11, 13, 15, 17, 19, 21, 23, 25]"
      ]
     },
     "execution_count": 3,
     "metadata": {},
     "output_type": "execute_result"
    }
   ],
   "source": [
    "def odd_num():\n",
    "    n=[]\n",
    "    for i in range(1,26):\n",
    "        if i%2==1:\n",
    "            n.append(i)\n",
    "    return n\n",
    "odd_num()"
   ]
  },
  {
   "cell_type": "markdown",
   "id": "fb8f82e0-ef03-4498-be6d-097da37cf890",
   "metadata": {},
   "source": [
    "Q2. Why *args and **kwargs is used in some functions? Create a function each for *args and **kwargs to\n",
    "demonstrate their use."
   ]
  },
  {
   "cell_type": "code",
   "execution_count": 4,
   "id": "cd16eeb8-84d0-4b62-b8a3-fa2488632d35",
   "metadata": {},
   "outputs": [
    {
     "data": {
      "text/plain": [
       "'\\nArgs and kwargs are special kind of keyword which used to handle any number of arguments in function call \\n*args(args could be replaced with any word like *n, *low,*anyname ,*anything just one astrick is must)\\n*args can handle any data type except dictionary as to handle dic type object **kwargs are made for\\nthings we can pass as an argument in *args : int, string, bool, list, tuple\\n**kwargs works same as *args only difference is they handle Dictionary type arguments any number \\n\\nIn simple language *args & **kwargs used to handle multiple arguments we passed in function call \\nwhich these pass to fn body in form of tuple\\nargs kwargs can be used anywhere not just in function to handle arguments like a like'"
      ]
     },
     "execution_count": 4,
     "metadata": {},
     "output_type": "execute_result"
    }
   ],
   "source": [
    "\"\"\"\n",
    "Args and kwargs are special kind of keyword which used to handle any number of arguments in function call \n",
    "*args(args could be replaced with any word like *n, *low,*anyname ,*anything just one astrick is must)\n",
    "*args can handle any data type except dictionary as to handle dic type object **kwargs are made for\n",
    "things we can pass as an argument in *args : int, string, bool, list, tuple\n",
    "**kwargs works same as *args only difference is they handle Dictionary type arguments any number \n",
    "\n",
    "In simple language *args & **kwargs used to handle multiple arguments we passed in function call \n",
    "which these pass to fn body in form of tuple\n",
    "args kwargs can be used anywhere not just in function to handle arguments like a like\"\"\"\n"
   ]
  },
  {
   "cell_type": "markdown",
   "id": "675de44b-f200-49bf-acd3-dcf991e4fcb2",
   "metadata": {},
   "source": [
    "\n",
    "#function takes args and kwargs display them differentially and also display sum of kwargs(dictionary values)\n"
   ]
  },
  {
   "cell_type": "code",
   "execution_count": 5,
   "id": "96df853a-d0cd-4797-ab11-499a1178986d",
   "metadata": {},
   "outputs": [
    {
     "name": "stdout",
     "output_type": "stream",
     "text": [
      "this is args\t  (1, 2, 3, 34, 6, 2, 3, 24, 67, 8) \n",
      "this is Kwargs {'a': 23445, 'b': 23, 'c': 2591, 'd': 2345}\n",
      "this is sum of kwargs  28404\n"
     ]
    }
   ],
   "source": [
    "def test_fun(*args,**kwargs):\n",
    "    print(\"this is args\\t \",args,\"\\nthis is Kwargs\",kwargs)\n",
    "    return sum(kwargs.values())\n",
    "print(\"this is sum of kwargs \",test_fun(1,2,3,34,6,2,3,24,67,8,a=23445,b=23,c=2591,d=2345,))"
   ]
  },
  {
   "cell_type": "markdown",
   "id": "4c40fead-d285-4176-9f6c-5b8bca20da6c",
   "metadata": {},
   "source": [
    "Q3. What is an iterator in python? Name the method used to initialise the iterator object and the method\n",
    "used for iteration. Use these methods to print the first five elements of the given list [2, 4, 6, 8, 10, 12, 14, 16,\n",
    "18, 20]."
   ]
  },
  {
   "cell_type": "code",
   "execution_count": 6,
   "id": "55a6896f-2b52-4455-8e27-1aa19770907a",
   "metadata": {},
   "outputs": [
    {
     "name": "stdout",
     "output_type": "stream",
     "text": [
      "2\n",
      "4\n",
      "6\n",
      "8\n",
      "10\n"
     ]
    }
   ],
   "source": [
    "\"\"\"\n",
    "any object that has __next__ in it's functionality is iterator\n",
    "Iterator is python object that iterate over iterable object using inner method __next__\n",
    "\n",
    "iter() method used to initialize the iterator and next method use for iterate over it\n",
    "iter() method return iterator object object\n",
    "\"\"\"\n",
    "lis = [2, 4, 6, 8, 10, 12, 14, 16, 18, 20]\n",
    "itr_obj = iter(lis)\n",
    "for i in range(0,5):\n",
    "    print(next(itr_obj))"
   ]
  },
  {
   "cell_type": "markdown",
   "id": "62ad008a-e219-448d-aa09-5e3e177e8ad3",
   "metadata": {},
   "source": [
    "Q4. What is a generator function in python? Why yield keyword is used? Give an example of a generator\n",
    "function."
   ]
  },
  {
   "cell_type": "code",
   "execution_count": 8,
   "id": "7f82dcb0-301f-4d40-b5fd-2e810b6b6fb7",
   "metadata": {},
   "outputs": [],
   "source": [
    "\"\"\"\n",
    "Generator is similar to iterator only difference is it doesn't return any value it yield \n",
    "it saves memory than iterator like it not gone store whole iteration at once instead it store one \n",
    "then yield(mean gave it ) then yield another \n",
    "Generator remember where we left it resumes where ever we left off\n",
    "\"\"\"\n",
    "def test_sqr(n):\n",
    "    for i in range(1,n):\n",
    "        yield i**2\n",
    "        \n"
   ]
  },
  {
   "cell_type": "code",
   "execution_count": 11,
   "id": "97c0fa5f-f886-49a8-9db8-830e79c03977",
   "metadata": {},
   "outputs": [
    {
     "name": "stdout",
     "output_type": "stream",
     "text": [
      "1 4 9 16 25 36 49 64 81 100 121 144 169 196 "
     ]
    }
   ],
   "source": [
    "for i in test_sqr(15):\n",
    "    print(i,end=\" \")"
   ]
  },
  {
   "cell_type": "markdown",
   "id": "05e0f4b3-7776-4e37-aada-e5c60197fa42",
   "metadata": {},
   "source": [
    "Q5. Create a generator function for prime numbers less than 1000. Use the next() method to print the\n",
    "first 20 prime numbers."
   ]
  },
  {
   "cell_type": "code",
   "execution_count": null,
   "id": "f72017a8-62a4-4b4f-b8b3-519223cd63c2",
   "metadata": {},
   "outputs": [],
   "source": [
    "def prime_no(num):\n",
    "    for i in range(1,num):\n",
    "        j=i-1\n",
    "        while j>=0:\n",
    "            if i==1 or j==1:\n",
    "                yield i\n",
    "                break\n",
    "            elif i%j==0:\n",
    "                break\n",
    "            else: \n",
    "                j-=1\n",
    "itr= iter(prime_no(1000))\n",
    "for i in range(20):\n",
    "    print(next(itr),end=\" \")"
   ]
  }
 ],
 "metadata": {
  "kernelspec": {
   "display_name": "Python 3 (ipykernel)",
   "language": "python",
   "name": "python3"
  },
  "language_info": {
   "codemirror_mode": {
    "name": "ipython",
    "version": 3
   },
   "file_extension": ".py",
   "mimetype": "text/x-python",
   "name": "python",
   "nbconvert_exporter": "python",
   "pygments_lexer": "ipython3",
   "version": "3.10.8"
  }
 },
 "nbformat": 4,
 "nbformat_minor": 5
}

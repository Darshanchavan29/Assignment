{
 "cells": [
  {
   "cell_type": "code",
   "execution_count": 1,
   "id": "fa26c4ab-8c63-4b4e-9ef5-6bf357eaf0ba",
   "metadata": {},
   "outputs": [],
   "source": [
    "##### Question 1. Write a program to accept percentage from the user and display the grade according to the following.\n"
   ]
  },
  {
   "cell_type": "code",
   "execution_count": 2,
   "id": "5449a561-2429-47da-8204-25608e11af16",
   "metadata": {},
   "outputs": [
    {
     "name": "stdin",
     "output_type": "stream",
     "text": [
      "Enter your percentage 80\n"
     ]
    },
    {
     "name": "stdout",
     "output_type": "stream",
     "text": [
      "average You got C Grade\n"
     ]
    }
   ],
   "source": [
    "usr= int(input(\"Enter your percentage\"))\n",
    "if not usr.real:\n",
    "    print(\"Please enter again without %age sign Integers only allowed\")\n",
    "elif usr >90:\n",
    "    print(\"Congrats You Scored A Grade\")\n",
    "elif usr >80 and usr_in<=90:\n",
    "    print(\"Good, You got B Grade\")\n",
    "elif usr >= 60 and usr <= 80: \n",
    "    print(\"average You got C Grade\")\n",
    "else:\n",
    "    print(\"Don't play with your future. Just passed with D Grade\")"
   ]
  },
  {
   "cell_type": "code",
   "execution_count": 3,
   "id": "092ad2c1-512b-4319-9879-0c6711fe74c6",
   "metadata": {},
   "outputs": [],
   "source": [
    "#### Q2.Write a program to accept the cost price of a bike and display the road tax to be paid according to the following criteria:\n",
    "# 15% >1,00,000\n",
    "# 10% >50,000 and <= 1,00,000\n",
    "# 5% <=50,000`\n"
   ]
  },
  {
   "cell_type": "code",
   "execution_count": 5,
   "id": "df3136d0-e71c-41cd-b3ef-ac80d4022063",
   "metadata": {},
   "outputs": [
    {
     "name": "stdin",
     "output_type": "stream",
     "text": [
      "enter your bike price 100000\n"
     ]
    },
    {
     "name": "stdout",
     "output_type": "stream",
     "text": [
      "you have to pay tax 10% for ur bike10000 \n"
     ]
    }
   ],
   "source": [
    "usr=int(input(\"enter your bike price\"))\n",
    "if usr>100000:\n",
    "    print(f\"you have to pay tax 15% for ur bike{int(usr*0.15)} \")\n",
    "elif usr>50000 and usr<=100000:\n",
    "    print(f\"you have to pay tax 10% for ur bike{int(usr*0.10)} \")\n",
    "elif usr<=50000:\n",
    "    print(f\"you have to pay tax 5% for ur bike{int(usr*0.05)} \")\n",
    "else:\n",
    "    print(\"plese check you are bike price\")\n"
   ]
  },
  {
   "cell_type": "code",
   "execution_count": 6,
   "id": "48a235d2-b24b-4bdb-83d5-0c29c437767f",
   "metadata": {},
   "outputs": [],
   "source": [
    "# #### Q3.Accept any city from the user and display monumnets of that city\n",
    "# delhi >> Red fort \\\n",
    "# Agra >> Taj Mahal \\\n",
    "# Jaipur >> Jal Mahal \n",
    "\n"
   ]
  },
  {
   "cell_type": "code",
   "execution_count": 10,
   "id": "3a183f85-1269-4217-9dc2-708bac72f861",
   "metadata": {},
   "outputs": [
    {
     "name": "stdin",
     "output_type": "stream",
     "text": [
      "enter yur city delhi\n"
     ]
    },
    {
     "name": "stdout",
     "output_type": "stream",
     "text": [
      "you saw Red for in DELHI\n"
     ]
    }
   ],
   "source": [
    "usr=input(\"enter yur city\").upper()\n",
    "if usr==\"DELHI\":\n",
    "    print(f\"you saw Red for in {usr}\")\n",
    "elif usr==\"AGRA\":\n",
    "    print(f\"you can sa Taj mahal in{usr}\")\n",
    "elif usr==\"JAIPUR\":\n",
    "    print(f\"you can saw Jal mahal in{usr}\")\n",
    "else:\n",
    "    print(\"check your city name\")\n",
    "    "
   ]
  },
  {
   "cell_type": "code",
   "execution_count": null,
   "id": "18c846d1-0ea0-4ce2-939c-c8cffbc0a902",
   "metadata": {},
   "outputs": [],
   "source": [
    "### Q4.Check how many times a give number can be divided by 3 before it is less than or equal to 10"
   ]
  },
  {
   "cell_type": "code",
   "execution_count": null,
   "id": "269a9dab-1aac-4091-afb1-ac71bf3b4495",
   "metadata": {},
   "outputs": [],
   "source": [
    "usr_in = int(input(\"Enter your number to division check\"))\n",
    "tag = 0\n",
    "while usr_in >=10:\n",
    "    usr_in = int(usr_in/3)\n",
    "    tag+=1\n",
    "    print(usr_in)\n",
    "print(f\"Entered Number {usr_in} can be divided by {tag} times to 3 keeping remainder greater than 10\" )"
   ]
  },
  {
   "cell_type": "code",
   "execution_count": null,
   "id": "e3b542bf-2125-44aa-a25d-516b5e9a8981",
   "metadata": {},
   "outputs": [],
   "source": [
    "#### Q5. Why and when to use while loop in Python give a detail description with example\n",
    "\n",
    "# Python while loop is used to run a block code until a certain condition is met\n",
    "# Why we use: to run a block of code that much of time till our conditions met True there is no counter where our block of code\n",
    "# just ran for certain number of times even While loop can run infinitely till we break or interrupt our code if its conditions met true infinitely\n",
    "# \n",
    "# When to use : Consider we have to run a block of code for x number of times and we don't know that value x soo we use while \n",
    "# whenever we don't knew about number of iteration needed by our loop we use While Loop if we knew number of iteration then we can go for both for and while\n",
    "# \n"
   ]
  },
  {
   "cell_type": "code",
   "execution_count": null,
   "id": "45f9d650-d3f9-407b-a37f-8e98357909ed",
   "metadata": {},
   "outputs": [],
   "source": [
    "#### Code while loop\n",
    "# this program calculate sum of numbers until user didn't enter 0"
   ]
  },
  {
   "cell_type": "code",
   "execution_count": null,
   "id": "cb7f3731-8d2e-414e-a5fe-86eba6071ef2",
   "metadata": {},
   "outputs": [],
   "source": [
    "total = 0 \n",
    "number = int(input(\"Enter a number: \"))\n",
    "while number != 0:\n",
    "    total += number\n",
    "    number = int(input(\"enter number to add or 0 to stop to get final total\"))\n",
    "print('Total = ', total)"
   ]
  },
  {
   "cell_type": "code",
   "execution_count": null,
   "id": "efefacc3-0344-4805-b1ea-614b7ca038fd",
   "metadata": {},
   "outputs": [],
   "source": [
    "#### Q6.Use nested while loop to display 3 different pattern "
   ]
  },
  {
   "cell_type": "code",
   "execution_count": null,
   "id": "f6ad186a-6c6b-4ee7-89c0-e932af1d7847",
   "metadata": {},
   "outputs": [],
   "source": [
    "i = 0\n",
    "\n",
    "while i<=5:\n",
    "    j = i\n",
    "    while j<5:\n",
    "        print(\"*\" ,end = \"\")\n",
    "        j+=1\n",
    "    print()\n",
    "    i+=1"
   ]
  },
  {
   "cell_type": "code",
   "execution_count": null,
   "id": "691e58a5-48eb-48a9-a059-917461a56875",
   "metadata": {},
   "outputs": [],
   "source": [
    "####reverse a while loop to display 10 to 1 "
   ]
  },
  {
   "cell_type": "code",
   "execution_count": null,
   "id": "13836a08-3943-4ffb-bdde-fc66e28aeb4e",
   "metadata": {},
   "outputs": [],
   "source": []
  }
 ],
 "metadata": {
  "kernelspec": {
   "display_name": "Python 3 (ipykernel)",
   "language": "python",
   "name": "python3"
  },
  "language_info": {
   "codemirror_mode": {
    "name": "ipython",
    "version": 3
   },
   "file_extension": ".py",
   "mimetype": "text/x-python",
   "name": "python",
   "nbconvert_exporter": "python",
   "pygments_lexer": "ipython3",
   "version": "3.10.8"
  }
 },
 "nbformat": 4,
 "nbformat_minor": 5
}

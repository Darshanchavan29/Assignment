{
 "cells": [
  {
   "cell_type": "code",
   "execution_count": 1,
   "id": "dcf4758f-de78-4632-af50-8bf746666fdb",
   "metadata": {},
   "outputs": [
    {
     "data": {
      "text/html": [
       "<div>\n",
       "<style scoped>\n",
       "    .dataframe tbody tr th:only-of-type {\n",
       "        vertical-align: middle;\n",
       "    }\n",
       "\n",
       "    .dataframe tbody tr th {\n",
       "        vertical-align: top;\n",
       "    }\n",
       "\n",
       "    .dataframe thead th {\n",
       "        text-align: right;\n",
       "    }\n",
       "</style>\n",
       "<table border=\"1\" class=\"dataframe\">\n",
       "  <thead>\n",
       "    <tr style=\"text-align: right;\">\n",
       "      <th></th>\n",
       "      <th>course_name</th>\n",
       "      <th>duration</th>\n",
       "    </tr>\n",
       "  </thead>\n",
       "  <tbody>\n",
       "    <tr>\n",
       "      <th>0</th>\n",
       "      <td>Data Science</td>\n",
       "      <td>2</td>\n",
       "    </tr>\n",
       "    <tr>\n",
       "      <th>1</th>\n",
       "      <td>Machine Learning</td>\n",
       "      <td>3</td>\n",
       "    </tr>\n",
       "    <tr>\n",
       "      <th>2</th>\n",
       "      <td>Big Data</td>\n",
       "      <td>6</td>\n",
       "    </tr>\n",
       "    <tr>\n",
       "      <th>3</th>\n",
       "      <td>Data Engineer</td>\n",
       "      <td>4</td>\n",
       "    </tr>\n",
       "  </tbody>\n",
       "</table>\n",
       "</div>"
      ],
      "text/plain": [
       "        course_name  duration\n",
       "0      Data Science         2\n",
       "1  Machine Learning         3\n",
       "2          Big Data         6\n",
       "3     Data Engineer         4"
      ]
     },
     "execution_count": 1,
     "metadata": {},
     "output_type": "execute_result"
    }
   ],
   "source": [
    "#Consider following code to answer further questions:\n",
    "import pandas as pd\n",
    "course_name = ['Data Science', 'Machine Learning', 'Big Data', 'Data Engineer']\n",
    "duration = [2,3,6,4]\n",
    "df = pd.DataFrame(data = {'course_name' : course_name, 'duration' : duration})\n",
    "df"
   ]
  },
  {
   "cell_type": "markdown",
   "id": "138d16ac-75e3-4bad-803e-f4730f99b267",
   "metadata": {},
   "source": [
    "Q1. Write a code to print the data present in the second row of the dataframe, df."
   ]
  },
  {
   "cell_type": "code",
   "execution_count": 3,
   "id": "04000458-4e9a-415d-b0ff-88c1615ae62b",
   "metadata": {},
   "outputs": [
    {
     "data": {
      "text/plain": [
       "course_name    Machine Learning\n",
       "duration                      3\n",
       "Name: 1, dtype: object"
      ]
     },
     "execution_count": 3,
     "metadata": {},
     "output_type": "execute_result"
    }
   ],
   "source": [
    "df.iloc[1]"
   ]
  },
  {
   "cell_type": "markdown",
   "id": "a7b4fa90-438a-4c33-995f-d30cbe9b5356",
   "metadata": {},
   "source": [
    "Q2. What is the difference between the functions loc and iloc in pandas.DataFrame?"
   ]
  },
  {
   "cell_type": "code",
   "execution_count": 4,
   "id": "1418f8c5-b978-4e9f-8649-69c36d647bd3",
   "metadata": {},
   "outputs": [
    {
     "data": {
      "text/plain": [
       "'\\nloc: use user defined indexes (this could be int or string or any function in its args)\\n\\niloc: use inbuild index (args could be only of int type)\\n\\n'"
      ]
     },
     "execution_count": 4,
     "metadata": {},
     "output_type": "execute_result"
    }
   ],
   "source": [
    "\"\"\"\n",
    "loc: use user defined indexes (this could be int or string or any function in its args)\n",
    "\n",
    "iloc: use inbuild index (args could be only of int type)\n",
    "\n",
    "\"\"\""
   ]
  },
  {
   "cell_type": "markdown",
   "id": "200d18e6-90fe-47ca-90f2-7846033a96bf",
   "metadata": {},
   "source": [
    "Q3. Reindex the given dataframe using a variable, reindex = [3,0,1,2] and store it in the variable, new_df\n",
    "then find the output for both new_df.loc[2] and new_df.iloc[2]."
   ]
  },
  {
   "cell_type": "code",
   "execution_count": 6,
   "id": "7c9f5a13-0b3a-45e2-9064-44550e7446be",
   "metadata": {},
   "outputs": [],
   "source": [
    "##Did you observe any difference in both the outputs? If so then explain it. Consider the below code to answer further questions:##\n",
    "\n",
    "import pandas as pd\n",
    "import numpy as np\n",
    "columns = ['column_1', 'column_2', 'column_3', 'column_4', 'column_5', 'column_6']\n",
    "indices = [1,2,3,4,5,6]"
   ]
  },
  {
   "cell_type": "markdown",
   "id": "3c463fc4-e5e3-41fb-bff1-886a72ab807e",
   "metadata": {},
   "source": [
    "Creating a dataframe:"
   ]
  },
  {
   "cell_type": "code",
   "execution_count": 7,
   "id": "713633d3-5354-453d-86f4-af8d8ab2b948",
   "metadata": {},
   "outputs": [],
   "source": [
    "df1 = pd.DataFrame(np.random.rand(6,6), columns = columns, index = indices)"
   ]
  },
  {
   "cell_type": "code",
   "execution_count": 8,
   "id": "f8b176c0-4b09-4a3a-abd3-86d06e375519",
   "metadata": {},
   "outputs": [
    {
     "data": {
      "text/html": [
       "<div>\n",
       "<style scoped>\n",
       "    .dataframe tbody tr th:only-of-type {\n",
       "        vertical-align: middle;\n",
       "    }\n",
       "\n",
       "    .dataframe tbody tr th {\n",
       "        vertical-align: top;\n",
       "    }\n",
       "\n",
       "    .dataframe thead th {\n",
       "        text-align: right;\n",
       "    }\n",
       "</style>\n",
       "<table border=\"1\" class=\"dataframe\">\n",
       "  <thead>\n",
       "    <tr style=\"text-align: right;\">\n",
       "      <th></th>\n",
       "      <th>column_1</th>\n",
       "      <th>column_2</th>\n",
       "      <th>column_3</th>\n",
       "      <th>column_4</th>\n",
       "      <th>column_5</th>\n",
       "      <th>column_6</th>\n",
       "    </tr>\n",
       "  </thead>\n",
       "  <tbody>\n",
       "    <tr>\n",
       "      <th>1</th>\n",
       "      <td>0.275070</td>\n",
       "      <td>0.206866</td>\n",
       "      <td>0.229494</td>\n",
       "      <td>0.447147</td>\n",
       "      <td>0.995953</td>\n",
       "      <td>0.227358</td>\n",
       "    </tr>\n",
       "    <tr>\n",
       "      <th>2</th>\n",
       "      <td>0.474350</td>\n",
       "      <td>0.332377</td>\n",
       "      <td>0.038456</td>\n",
       "      <td>0.114219</td>\n",
       "      <td>0.221277</td>\n",
       "      <td>0.986472</td>\n",
       "    </tr>\n",
       "    <tr>\n",
       "      <th>3</th>\n",
       "      <td>0.888485</td>\n",
       "      <td>0.118170</td>\n",
       "      <td>0.397698</td>\n",
       "      <td>0.592095</td>\n",
       "      <td>0.532019</td>\n",
       "      <td>0.768232</td>\n",
       "    </tr>\n",
       "    <tr>\n",
       "      <th>4</th>\n",
       "      <td>0.098085</td>\n",
       "      <td>0.938339</td>\n",
       "      <td>0.428493</td>\n",
       "      <td>0.211230</td>\n",
       "      <td>0.944158</td>\n",
       "      <td>0.330271</td>\n",
       "    </tr>\n",
       "    <tr>\n",
       "      <th>5</th>\n",
       "      <td>0.572985</td>\n",
       "      <td>0.703714</td>\n",
       "      <td>0.653220</td>\n",
       "      <td>0.505990</td>\n",
       "      <td>0.655008</td>\n",
       "      <td>0.645923</td>\n",
       "    </tr>\n",
       "    <tr>\n",
       "      <th>6</th>\n",
       "      <td>0.764288</td>\n",
       "      <td>0.545493</td>\n",
       "      <td>0.514176</td>\n",
       "      <td>0.007893</td>\n",
       "      <td>0.426231</td>\n",
       "      <td>0.296730</td>\n",
       "    </tr>\n",
       "  </tbody>\n",
       "</table>\n",
       "</div>"
      ],
      "text/plain": [
       "   column_1  column_2  column_3  column_4  column_5  column_6\n",
       "1  0.275070  0.206866  0.229494  0.447147  0.995953  0.227358\n",
       "2  0.474350  0.332377  0.038456  0.114219  0.221277  0.986472\n",
       "3  0.888485  0.118170  0.397698  0.592095  0.532019  0.768232\n",
       "4  0.098085  0.938339  0.428493  0.211230  0.944158  0.330271\n",
       "5  0.572985  0.703714  0.653220  0.505990  0.655008  0.645923\n",
       "6  0.764288  0.545493  0.514176  0.007893  0.426231  0.296730"
      ]
     },
     "execution_count": 8,
     "metadata": {},
     "output_type": "execute_result"
    }
   ],
   "source": [
    "# import pandas as pd\n",
    "import numpy as np\n",
    "columns = ['column_1', 'column_2', 'column_3', 'column_4', 'column_5', 'column_6']\n",
    "index = [l for l in range(1,7)]\n",
    "#Creating a dataframe:\n",
    "df1 = pd.DataFrame(np.random.rand(6,6), columns = columns, index = index)\n",
    "df1"
   ]
  },
  {
   "cell_type": "code",
   "execution_count": 9,
   "id": "99f4b374-61f4-4206-b8f8-6e458789eee8",
   "metadata": {},
   "outputs": [
    {
     "data": {
      "text/html": [
       "<div>\n",
       "<style scoped>\n",
       "    .dataframe tbody tr th:only-of-type {\n",
       "        vertical-align: middle;\n",
       "    }\n",
       "\n",
       "    .dataframe tbody tr th {\n",
       "        vertical-align: top;\n",
       "    }\n",
       "\n",
       "    .dataframe thead th {\n",
       "        text-align: right;\n",
       "    }\n",
       "</style>\n",
       "<table border=\"1\" class=\"dataframe\">\n",
       "  <thead>\n",
       "    <tr style=\"text-align: right;\">\n",
       "      <th></th>\n",
       "      <th>column_1</th>\n",
       "      <th>column_2</th>\n",
       "      <th>column_3</th>\n",
       "      <th>column_4</th>\n",
       "      <th>column_5</th>\n",
       "      <th>column_6</th>\n",
       "    </tr>\n",
       "  </thead>\n",
       "  <tbody>\n",
       "    <tr>\n",
       "      <th>3</th>\n",
       "      <td>0.888485</td>\n",
       "      <td>0.118170</td>\n",
       "      <td>0.397698</td>\n",
       "      <td>0.592095</td>\n",
       "      <td>0.532019</td>\n",
       "      <td>0.768232</td>\n",
       "    </tr>\n",
       "    <tr>\n",
       "      <th>0</th>\n",
       "      <td>NaN</td>\n",
       "      <td>NaN</td>\n",
       "      <td>NaN</td>\n",
       "      <td>NaN</td>\n",
       "      <td>NaN</td>\n",
       "      <td>NaN</td>\n",
       "    </tr>\n",
       "    <tr>\n",
       "      <th>1</th>\n",
       "      <td>0.275070</td>\n",
       "      <td>0.206866</td>\n",
       "      <td>0.229494</td>\n",
       "      <td>0.447147</td>\n",
       "      <td>0.995953</td>\n",
       "      <td>0.227358</td>\n",
       "    </tr>\n",
       "    <tr>\n",
       "      <th>2</th>\n",
       "      <td>0.474350</td>\n",
       "      <td>0.332377</td>\n",
       "      <td>0.038456</td>\n",
       "      <td>0.114219</td>\n",
       "      <td>0.221277</td>\n",
       "      <td>0.986472</td>\n",
       "    </tr>\n",
       "  </tbody>\n",
       "</table>\n",
       "</div>"
      ],
      "text/plain": [
       "   column_1  column_2  column_3  column_4  column_5  column_6\n",
       "3  0.888485  0.118170  0.397698  0.592095  0.532019  0.768232\n",
       "0       NaN       NaN       NaN       NaN       NaN       NaN\n",
       "1  0.275070  0.206866  0.229494  0.447147  0.995953  0.227358\n",
       "2  0.474350  0.332377  0.038456  0.114219  0.221277  0.986472"
      ]
     },
     "execution_count": 9,
     "metadata": {},
     "output_type": "execute_result"
    }
   ],
   "source": [
    "reindex = [3,0,1,2]\n",
    "new_df = df1.reindex(reindex)\n",
    "new_df"
   ]
  },
  {
   "cell_type": "code",
   "execution_count": 10,
   "id": "b80bfb54-d8d9-428f-b7fd-d8e8839d8b14",
   "metadata": {},
   "outputs": [
    {
     "name": "stdout",
     "output_type": "stream",
     "text": [
      "column_1    0.275070\n",
      "column_2    0.206866\n",
      "column_3    0.229494\n",
      "column_4    0.447147\n",
      "column_5    0.995953\n",
      "column_6    0.227358\n",
      "Name: 1, dtype: float64 \n",
      "\n",
      "column_1    0.474350\n",
      "column_2    0.332377\n",
      "column_3    0.038456\n",
      "column_4    0.114219\n",
      "column_5    0.221277\n",
      "column_6    0.986472\n",
      "Name: 2, dtype: float64\n"
     ]
    }
   ],
   "source": [
    "print(new_df.iloc[2],\"\\n\") # this print row currently at row no 2 \n",
    "\n",
    "print(new_df.loc[2]) # print index = 2 "
   ]
  },
  {
   "cell_type": "markdown",
   "id": "d0700d53-5a7e-4205-8c52-d58f8f8d7079",
   "metadata": {},
   "source": [
    "Q4. Write a code to find the following statistical measurements for the above dataframe df1:\n",
    "(i) mean of each and every column present in the dataframe.\n",
    "(ii) standard deviation of column, ‘column_2’"
   ]
  },
  {
   "cell_type": "code",
   "execution_count": 11,
   "id": "91c4a985-0f54-4a62-a887-824e69ad5e70",
   "metadata": {},
   "outputs": [
    {
     "data": {
      "text/plain": [
       "column_1    0.512211\n",
       "column_2    0.474160\n",
       "column_3    0.376923\n",
       "column_4    0.313096\n",
       "column_5    0.629108\n",
       "column_6    0.542498\n",
       "dtype: float64"
      ]
     },
     "execution_count": 11,
     "metadata": {},
     "output_type": "execute_result"
    }
   ],
   "source": [
    "# mean of each column \n",
    "df1.mean()"
   ]
  },
  {
   "cell_type": "code",
   "execution_count": 12,
   "id": "fd63d1d5-d8d8-4e94-8eec-25679ae68a9e",
   "metadata": {},
   "outputs": [
    {
     "data": {
      "text/plain": [
       "0.3135354427207425"
      ]
     },
     "execution_count": 12,
     "metadata": {},
     "output_type": "execute_result"
    }
   ],
   "source": [
    "# standard deviation of column_2\n",
    "df1['column_2'].std()"
   ]
  },
  {
   "cell_type": "markdown",
   "id": "e085f7da-e689-4653-888d-deb7cfcbcfc9",
   "metadata": {},
   "source": [
    "Q5. Replace the data present in the second row of column, ‘column_2’ by a string variable then find the"
   ]
  },
  {
   "cell_type": "code",
   "execution_count": 14,
   "id": "9639623c-2ee6-47ca-9ad5-e2ffc03d6c07",
   "metadata": {},
   "outputs": [],
   "source": [
    "df1['column_2'][2] =\"errorcreation\""
   ]
  },
  {
   "cell_type": "code",
   "execution_count": null,
   "id": "8cee940f-d788-4ebc-8e6c-8487f8036082",
   "metadata": {},
   "outputs": [],
   "source": [
    "#typeerror as mean could be calculated only for the numeric values\n",
    "\n",
    "df1['column_2'].mean()"
   ]
  },
  {
   "cell_type": "markdown",
   "id": "b2892be6-81c2-4a71-9250-888a1261aa18",
   "metadata": {},
   "source": [
    "Q6. What do you understand about the windows function in pandas and list the types of windows functions?"
   ]
  },
  {
   "cell_type": "code",
   "execution_count": null,
   "id": "187641e4-a436-453b-9ede-79a9ac53f5db",
   "metadata": {},
   "outputs": [],
   "source": [
    "Window functions allow us to perform computations among the values of a specified column.\n",
    "\n",
    "For example, I might want to compare today’s stock price with yesterday’s — then I would want a window of “1” looking backwards.\n",
    "\n",
    "A window function allows us to do that. If on the other hand, I want to compare today’s price with the price 1 year ago, then I would want a window of “356” (assuming weekends are in your dataset).\n",
    "\n",
    "Types:\n",
    "\n",
    "1)Rolling window\n",
    "2)Weighted window\n",
    "3)Expanding window\n",
    "4)Exponentially Weighted window"
   ]
  },
  {
   "cell_type": "markdown",
   "id": "3ec7d065-f50e-4cf8-b187-537fdf59e4c0",
   "metadata": {},
   "source": [
    "Q7. Write a code to print only the current month and year at the time of answering this question.\n",
    "[Hint: Use pandas.datetime function]"
   ]
  },
  {
   "cell_type": "code",
   "execution_count": 16,
   "id": "e2859c3f-06af-4246-abd1-477c233cc6ed",
   "metadata": {},
   "outputs": [
    {
     "name": "stderr",
     "output_type": "stream",
     "text": [
      "/tmp/ipykernel_1218/880839337.py:1: FutureWarning: The pandas.datetime class is deprecated and will be removed from pandas in a future version. Import from datetime module instead.\n",
      "  pd.datetime.now().month\n"
     ]
    },
    {
     "data": {
      "text/plain": [
       "6"
      ]
     },
     "execution_count": 16,
     "metadata": {},
     "output_type": "execute_result"
    }
   ],
   "source": [
    "pd.datetime.now().month"
   ]
  },
  {
   "cell_type": "code",
   "execution_count": 17,
   "id": "8934dadd-be31-46e7-abd9-daa6a6499825",
   "metadata": {},
   "outputs": [
    {
     "name": "stderr",
     "output_type": "stream",
     "text": [
      "/tmp/ipykernel_1218/3056029991.py:1: FutureWarning: The pandas.datetime class is deprecated and will be removed from pandas in a future version. Import from datetime module instead.\n",
      "  pd.datetime.now().year\n"
     ]
    },
    {
     "data": {
      "text/plain": [
       "2023"
      ]
     },
     "execution_count": 17,
     "metadata": {},
     "output_type": "execute_result"
    }
   ],
   "source": [
    "pd.datetime.now().year"
   ]
  },
  {
   "cell_type": "code",
   "execution_count": null,
   "id": "02e69fb8-dfb4-4610-8272-5fb6bc230c5b",
   "metadata": {},
   "outputs": [],
   "source": []
  }
 ],
 "metadata": {
  "kernelspec": {
   "display_name": "Python 3 (ipykernel)",
   "language": "python",
   "name": "python3"
  },
  "language_info": {
   "codemirror_mode": {
    "name": "ipython",
    "version": 3
   },
   "file_extension": ".py",
   "mimetype": "text/x-python",
   "name": "python",
   "nbconvert_exporter": "python",
   "pygments_lexer": "ipython3",
   "version": "3.10.8"
  }
 },
 "nbformat": 4,
 "nbformat_minor": 5
}

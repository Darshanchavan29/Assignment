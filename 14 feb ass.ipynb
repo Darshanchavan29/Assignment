{
 "cells": [
  {
   "cell_type": "markdown",
   "id": "09896033-97b4-4de3-82e4-cf09cb95537c",
   "metadata": {},
   "source": [
    "Q1 What is multithreading in python? Why is it used? Name the module used to handle threads in python"
   ]
  },
  {
   "cell_type": "code",
   "execution_count": 1,
   "id": "fdd5ab40-ca8a-42f3-8625-ad6f19b0ba24",
   "metadata": {},
   "outputs": [
    {
     "data": {
      "text/plain": [
       "'\\nTechnique where a process is spawns multiple threads simultaneously \\nThread is smallest processing unit which is schedule for execution\\nso processing multiple thread simultaneously is multithreading\\n\\n\\n#uses \\nIt enables efficient utilization of resources, reducing time consumtion or \\nresponse time thereby, increasing the performance\\n\\n#Modules\\nthreading module used to handle threads in python we import this as follows :\\nimport threading\\n'"
      ]
     },
     "execution_count": 1,
     "metadata": {},
     "output_type": "execute_result"
    }
   ],
   "source": [
    "\"\"\"\n",
    "Technique where a process is spawns multiple threads simultaneously \n",
    "Thread is smallest processing unit which is schedule for execution\n",
    "so processing multiple thread simultaneously is multithreading\n",
    "\n",
    "\n",
    "#uses \n",
    "It enables efficient utilization of resources, reducing time consumtion or \n",
    "response time thereby, increasing the performance\n",
    "\n",
    "#Modules\n",
    "threading module used to handle threads in python we import this as follows :\n",
    "import threading\n",
    "\"\"\""
   ]
  },
  {
   "cell_type": "markdown",
   "id": "c6f1d689-0d61-4a2c-be86-8b149e0a9f21",
   "metadata": {},
   "source": [
    "Q2 Why threading module used? Write the use of the following functions\n",
    "\n",
    "1)activeCount\n",
    "\n",
    "2)currentThread\n",
    "\n",
    "3)enumerate"
   ]
  },
  {
   "cell_type": "code",
   "execution_count": 2,
   "id": "532b1f7e-2f19-458b-ae7f-cc1876bdf339",
   "metadata": {},
   "outputs": [
    {
     "data": {
      "text/plain": [
       "\"\\nthreading module used to achieve Multithreading in python \\ndue to this module we can decrease time complexity of our code\\nachieve simultaneous processing which decrease processing time \\n\\n\\nactiveCount()  − gave number of thread objects that are active.\\ncurrentThread() − this gave number of thread objects in the caller's thread control.\\nenumerate() − Returns a list of all thread objects that are currently active.\\n\\n\\n\""
      ]
     },
     "execution_count": 2,
     "metadata": {},
     "output_type": "execute_result"
    }
   ],
   "source": [
    "\"\"\"\n",
    "threading module used to achieve Multithreading in python \n",
    "due to this module we can decrease time complexity of our code\n",
    "achieve simultaneous processing which decrease processing time \n",
    "\n",
    "\n",
    "activeCount()  − gave number of thread objects that are active.\n",
    "currentThread() − this gave number of thread objects in the caller's thread control.\n",
    "enumerate() − Returns a list of all thread objects that are currently active.\n",
    "\n",
    "\n",
    "\"\"\""
   ]
  },
  {
   "cell_type": "markdown",
   "id": "c8afdd68-8c19-4627-9520-cf90e9470f84",
   "metadata": {},
   "source": [
    "Q3. Explain the following functions\n",
    "\n",
    "run\n",
    "\n",
    "start\n",
    "\n",
    "join\n",
    "\n",
    "isAlive"
   ]
  },
  {
   "cell_type": "code",
   "execution_count": 3,
   "id": "c525813b-fa98-432b-b85d-b999ea0d541a",
   "metadata": {},
   "outputs": [
    {
     "data": {
      "text/plain": [
       "'\\nrun()  − run() method is the entry point for a thread.\\n\\nstart()  − start() method starts a thread by calling the run method.\\n\\njoin([time])  − join() waits for threads to terminate.\\n\\nisAlive()  − isAlive() method checks whether a thread is still executing.\\n\\n\\n'"
      ]
     },
     "execution_count": 3,
     "metadata": {},
     "output_type": "execute_result"
    }
   ],
   "source": [
    "\"\"\"\n",
    "run()  − run() method is the entry point for a thread.\n",
    "\n",
    "start()  − start() method starts a thread by calling the run method.\n",
    "\n",
    "join([time])  − join() waits for threads to terminate.\n",
    "\n",
    "isAlive()  − isAlive() method checks whether a thread is still executing.\n",
    "\n",
    "\n",
    "\"\"\""
   ]
  },
  {
   "cell_type": "markdown",
   "id": "2392e7f0-27a0-4bed-8208-bc4336418a73",
   "metadata": {},
   "source": [
    "4. write a python program to create two threads. Thread one must print the list of squares and thread\n",
    "two must print the list of cubes"
   ]
  },
  {
   "cell_type": "code",
   "execution_count": 5,
   "id": "8e4e701f-df2d-42e5-a6d1-075b5be398a4",
   "metadata": {},
   "outputs": [
    {
     "name": "stdout",
     "output_type": "stream",
     "text": [
      "Square of 1 is 1\n",
      "Square of 2 is 4\n",
      "Square of 3 is 9\n",
      "Square of 4 is 16\n",
      "Square of 5 is 25\n",
      "Square of 6 is 36\n",
      "Square of 7 is 49\n",
      "Square of 8 is 64\n",
      "Square of 9 is 81\n",
      "Square of 10 is 100\n",
      "Cube of 1 is 1\n",
      "Cube of 2 is 8\n",
      "Cube of 3 is 27\n",
      "Cube of 4 is 64\n",
      "Cube of 5 is 125\n",
      "Cube of 6 is 216\n",
      "Cube of 7 is 343\n",
      "Cube of 8 is 512\n",
      "Cube of 9 is 729\n",
      "Cube of 10 is 1000\n"
     ]
    }
   ],
   "source": [
    "from threading import Thread\n",
    "\n",
    "def sqr():\n",
    "    for a in range(1,11):\n",
    "        print(f\"Square of {a} is {a**2}\")\n",
    "\n",
    "def cube():\n",
    "    for a in range(1,11):\n",
    "        print(f\"Cube of {a} is {a**3}\")\n",
    "    \n",
    "t1 = Thread(target= sqr )\n",
    "t2 = Thread(target=cube)\n",
    "\n",
    "t1.start()\n",
    "t2.start()\n",
    "\n",
    "# t1.join()\n",
    "# t2.join()"
   ]
  },
  {
   "cell_type": "markdown",
   "id": "ca579f53-f935-48a7-8c16-962cfbbab509",
   "metadata": {},
   "source": [
    "Q5. State advantages and disadvantages of multithreading"
   ]
  },
  {
   "cell_type": "code",
   "execution_count": 6,
   "id": "8cb52fdb-b50b-469b-aabf-ee57f8258abc",
   "metadata": {},
   "outputs": [
    {
     "data": {
      "text/plain": [
       "'\\n#advantages\\n- enhanced performance on multiprocessor machine\\n- better use of system resources possible\\n- thread execetion done parallely/simultaneously \\n- if one thread stuck then other might perform their task \\n\\n#disadvantes \\n- shared resources like data could create problem as multiple threads could have access to them \\n- as thread count increases complexity too increases\\n- it makes debut difficult and predictable\\n- high deadlock possiblity \\n'"
      ]
     },
     "execution_count": 6,
     "metadata": {},
     "output_type": "execute_result"
    }
   ],
   "source": [
    "\"\"\"\n",
    "#advantages\n",
    "- enhanced performance on multiprocessor machine\n",
    "- better use of system resources possible\n",
    "- thread execetion done parallely/simultaneously \n",
    "- if one thread stuck then other might perform their task \n",
    "\n",
    "#disadvantes \n",
    "- shared resources like data could create problem as multiple threads could have access to them \n",
    "- as thread count increases complexity too increases\n",
    "- it makes debut difficult and predictable\n",
    "- high deadlock possiblity \n",
    "\"\"\""
   ]
  },
  {
   "cell_type": "markdown",
   "id": "586c0872-3d21-47e0-a556-9cb9cafd4fb4",
   "metadata": {},
   "source": [
    "Q6. Explain deadlocks and race conditions."
   ]
  },
  {
   "cell_type": "code",
   "execution_count": 7,
   "id": "f17be0a1-c100-429d-af41-391b0852f09c",
   "metadata": {},
   "outputs": [
    {
     "data": {
      "text/plain": [
       "'\\n#Race conditions \\nThis occure when two thread \"race\" for access to a resource \\nex. two object at same time tries to get access to same resource we can\\'t \\nguarantee which will get the object first this ends up with nasty bugs\\nTO PREVENT THIS lock() IS USED\\n\\n#Deadlock \\nThis occure when two or more thread lock each others resources \\nex. Object A lock some resources and wait for access to some more \\nbut those lock by object B and which B needed lock by A. so deadlock like condition arises\\nso both need resources which lock by each other and cause deadlock \\nthere is nothing to prevent deadlock just Careful coding is all to prevent deadlock\\n\\n'"
      ]
     },
     "execution_count": 7,
     "metadata": {},
     "output_type": "execute_result"
    }
   ],
   "source": [
    "\"\"\"\n",
    "#Race conditions \n",
    "This occure when two thread \"race\" for access to a resource \n",
    "ex. two object at same time tries to get access to same resource we can't \n",
    "guarantee which will get the object first this ends up with nasty bugs\n",
    "TO PREVENT THIS lock() IS USED\n",
    "\n",
    "#Deadlock \n",
    "This occure when two or more thread lock each others resources \n",
    "ex. Object A lock some resources and wait for access to some more \n",
    "but those lock by object B and which B needed lock by A. so deadlock like condition arises\n",
    "so both need resources which lock by each other and cause deadlock \n",
    "there is nothing to prevent deadlock just Careful coding is all to prevent deadlock\n",
    "\n",
    "\"\"\""
   ]
  },
  {
   "cell_type": "code",
   "execution_count": null,
   "id": "bec62035-4390-4af6-b413-ab8722b1ff82",
   "metadata": {},
   "outputs": [],
   "source": []
  }
 ],
 "metadata": {
  "kernelspec": {
   "display_name": "Python 3 (ipykernel)",
   "language": "python",
   "name": "python3"
  },
  "language_info": {
   "codemirror_mode": {
    "name": "ipython",
    "version": 3
   },
   "file_extension": ".py",
   "mimetype": "text/x-python",
   "name": "python",
   "nbconvert_exporter": "python",
   "pygments_lexer": "ipython3",
   "version": "3.10.8"
  }
 },
 "nbformat": 4,
 "nbformat_minor": 5
}

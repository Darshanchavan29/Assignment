{
 "cells": [
  {
   "cell_type": "markdown",
   "id": "3d30609e-4000-41d4-9686-bdd8fe9dd1da",
   "metadata": {},
   "source": [
    "Q1. What is an Exception in python? Write the difference between Exceptions and Syntax errors"
   ]
  },
  {
   "cell_type": "code",
   "execution_count": 1,
   "id": "33aaaf65-1976-4165-98b7-9db20fbab828",
   "metadata": {},
   "outputs": [
    {
     "data": {
      "text/plain": [
       "'\\nException can be an error, that cause an program to crash, unlike syntax error, \\ncode is syntactically correct and occure due to our negligance and during run time\\n\\nException occurs majorily at run time ie. during execution whereas, \\nsyntax error could be detected and warned about them before execution\\nby the compiler or IDE in which we are working\\n'"
      ]
     },
     "execution_count": 1,
     "metadata": {},
     "output_type": "execute_result"
    }
   ],
   "source": [
    "\"\"\"\n",
    "Exception can be an error, that cause an program to crash, unlike syntax error, \n",
    "code is syntactically correct and occure due to our negligance and during run time\n",
    "\n",
    "Exception occurs majorily at run time ie. during execution whereas, \n",
    "syntax error could be detected and warned about them before execution\n",
    "by the compiler or IDE in which we are working\n",
    "\"\"\"\n"
   ]
  },
  {
   "cell_type": "markdown",
   "id": "6c838bcf-805d-4ef3-b686-2913b9423228",
   "metadata": {},
   "source": [
    "Q2. What happens when an exception is not handled? Explain with an example."
   ]
  },
  {
   "cell_type": "code",
   "execution_count": 2,
   "id": "7762bc38-b20e-474a-857a-012712d6943d",
   "metadata": {},
   "outputs": [
    {
     "name": "stdout",
     "output_type": "stream",
     "text": [
      "[0, 1, 2, 3, 4, 5, 6, 7, 8, 9]\n"
     ]
    },
    {
     "ename": "IndexError",
     "evalue": "list index out of range",
     "output_type": "error",
     "traceback": [
      "\u001b[0;31m---------------------------------------------------------------------------\u001b[0m",
      "\u001b[0;31mIndexError\u001b[0m                                Traceback (most recent call last)",
      "Cell \u001b[0;32mIn[2], line 11\u001b[0m\n\u001b[1;32m      8\u001b[0m \u001b[38;5;28mprint\u001b[39m(lis1)\n\u001b[1;32m      9\u001b[0m \u001b[38;5;28;01mfor\u001b[39;00m i \u001b[38;5;129;01min\u001b[39;00m \u001b[38;5;28mrange\u001b[39m(\u001b[38;5;28mlen\u001b[39m(lis1)\u001b[38;5;241m+\u001b[39m\u001b[38;5;241m1\u001b[39m):\n\u001b[1;32m     10\u001b[0m      \u001b[38;5;66;03m#here we aren't doing nothing just to show exception of we didn't catch \u001b[39;00m\n\u001b[0;32m---> 11\u001b[0m     lis\u001b[38;5;241m.\u001b[39mappend(\u001b[43mlis1\u001b[49m\u001b[43m[\u001b[49m\u001b[43mi\u001b[49m\u001b[43m]\u001b[49m)\n\u001b[1;32m     13\u001b[0m \u001b[38;5;28mprint\u001b[39m(lis) \u001b[38;5;66;03m# this will not be printed as befor this exception occured and we didn't handle that\u001b[39;00m\n\u001b[1;32m     14\u001b[0m \u001b[38;5;28mprint\u001b[39m(\u001b[38;5;28mlen\u001b[39m(lis1)) \n",
      "\u001b[0;31mIndexError\u001b[0m: list index out of range"
     ]
    }
   ],
   "source": [
    "\"\"\"\n",
    "if there's an exception raised by our code and not handled it will halt our execution \n",
    "and no further code will be executed \n",
    "\"\"\"\n",
    "#we are trying to access elements of list out of its index\n",
    "lis1 = list(range(0,10))\n",
    "lis = []\n",
    "print(lis1)\n",
    "for i in range(len(lis1)+1):\n",
    "     #here we aren't doing nothing just to show exception of we didn't catch \n",
    "    lis.append(lis1[i])\n",
    "\n",
    "print(lis) # this will not be printed as befor this exception occured and we didn't handle that\n",
    "print(len(lis1)) \n",
    "#the only thing print is 8th line print statement and then at 11th line we got error "
   ]
  },
  {
   "cell_type": "markdown",
   "id": "5275723c-e135-4244-9cfb-39147c2a8ffb",
   "metadata": {},
   "source": [
    "now same code with exception handling"
   ]
  },
  {
   "cell_type": "code",
   "execution_count": 3,
   "id": "73535203-df37-49a1-befe-deb5bf0c9512",
   "metadata": {},
   "outputs": [
    {
     "name": "stdout",
     "output_type": "stream",
     "text": [
      "Our code get some errors  list index out of range\n",
      "[0, 1, 2, 3, 4, 5, 6, 7, 8, 9]\n",
      "[0, 1, 2, 3, 4, 5, 6, 7, 8, 9]\n"
     ]
    }
   ],
   "source": [
    "lis1 = list(range(0,10))\n",
    "lis  =[]\n",
    "try : \n",
    "    for i in range(len(lis1)+1):\n",
    "        lis.append(lis1[i])\n",
    "    print(lis)   # as we raise exception code will not be excepte untill we handle it\n",
    "    print(lis1)\n",
    "except Exception as e:\n",
    "    print(\"Our code get some errors \", e)\n",
    "print(lis)\n",
    "print(lis1)"
   ]
  },
  {
   "cell_type": "markdown",
   "id": "c5f2d92f-8e81-4b53-a0b6-ac801419b8cd",
   "metadata": {},
   "source": [
    "Q3. Which Python statements are used to catch and handle exceptions? Explain with an example."
   ]
  },
  {
   "cell_type": "code",
   "execution_count": 5,
   "id": "b6f5f4ef-9932-48c8-a477-6311567e9a89",
   "metadata": {},
   "outputs": [
    {
     "name": "stdin",
     "output_type": "stream",
     "text": [
      "Enter a number:  77\n",
      "Enter another number:  0\n"
     ]
    },
    {
     "name": "stdout",
     "output_type": "stream",
     "text": [
      "Error: Division by zero\n"
     ]
    }
   ],
   "source": [
    "\"\"\"\n",
    "In python Try used to raise the exception and except used handle that exception \n",
    "The code we assumed to raise exception put in try statement and to catch and handle it \n",
    "except statement comes into \n",
    "In below piece of code it take 2 user input and raise errors \n",
    "just two kind of error except statement catch and handle which we defined in except block \n",
    "\"ZeroDivisionError\" when user pass Zero in denominator and \n",
    "\"ValueError\" when user pass string or something other than integer \n",
    "\"\"\"\n",
    "\n",
    "try:\n",
    "    x = int(input(\"Enter a number: \"))\n",
    "    y = int(input(\"Enter another number: \"))\n",
    "    result = x / y\n",
    "    print(\"The result is:\", result)\n",
    "except ZeroDivisionError:\n",
    "    print(\"Error: Division by zero\")\n",
    "except ValueError:\n",
    "    print(\"Error: Invalid input\")"
   ]
  },
  {
   "cell_type": "markdown",
   "id": "e5471a34-036b-4254-835b-63698e37ae83",
   "metadata": {},
   "source": [
    "Q4. Explain with an example:\n",
    "\n",
    ">Try and else\n",
    "\n",
    ">finally\n",
    "\n",
    ">raise"
   ]
  },
  {
   "cell_type": "code",
   "execution_count": 6,
   "id": "12c3a31d-385a-4e1d-a77c-2145d19760c3",
   "metadata": {},
   "outputs": [
    {
     "name": "stdin",
     "output_type": "stream",
     "text": [
      "Enter a number:  90.8\n"
     ]
    },
    {
     "name": "stdout",
     "output_type": "stream",
     "text": [
      "code encounter runtime exception  invalid literal for int() with base 10: '90.8'\n"
     ]
    }
   ],
   "source": [
    "## Try and else \n",
    "#else statement block runs only when try completed without exception\n",
    "try: \n",
    "    x = int(input(\"Enter a number: \"))\n",
    "    print(f\"cube of {x} is : \",x**3)\n",
    "except Exception as e: \n",
    "    print(\"code encounter runtime exception \",e)\n",
    "else: \n",
    "    print('this else runs when no exception in try block')"
   ]
  },
  {
   "cell_type": "code",
   "execution_count": 7,
   "id": "0502d2d0-27cb-4ff6-8a68-ad6c2ac71fc7",
   "metadata": {},
   "outputs": [
    {
     "name": "stdout",
     "output_type": "stream",
     "text": [
      "Exception handled: not writable\n",
      "file closed\n"
     ]
    }
   ],
   "source": [
    "#finally \n",
    "# finally statements doesn't depend on any exception they will run for sure after try except block\n",
    "try: \n",
    "    file = open(\"test.txt\",'r')\n",
    "    file.write(\"this is where exception occurs\") #as we open in read mode and performing write ops\n",
    "except Exception as e : \n",
    "    print(\"Exception handled:\" ,e )\n",
    "else:\n",
    "    print(\"file write ops complete\")\n",
    "finally: \n",
    "    print(\"file closed\")\n",
    "    file.close()"
   ]
  },
  {
   "cell_type": "code",
   "execution_count": 8,
   "id": "3f045f8b-e62b-4332-afcc-2f864933edf8",
   "metadata": {},
   "outputs": [
    {
     "name": "stdin",
     "output_type": "stream",
     "text": [
      "Enter the employer salary:  90887\n"
     ]
    },
    {
     "name": "stdout",
     "output_type": "stream",
     "text": [
      "\n",
      "\n",
      "Congrats For a new start in the company with a salary 90887\n"
     ]
    }
   ],
   "source": [
    "#raise\n",
    "# used to manually calling inbuilt or user defined exception\n",
    "try: \n",
    "    salary = int(input(\"Enter the employer salary: \"))\n",
    "    if salary<10000:\n",
    "        raise ValueError\n",
    "    else: \n",
    "        print(\"\\n\\nCongrats For a new start in the company with a salary\",salary)\n",
    "except ValueError as v:\n",
    "    print(\"enter salary according to govt norms of Minimum wages\")"
   ]
  },
  {
   "cell_type": "markdown",
   "id": "096d171f-fecc-4ab7-845b-198ed4f320b0",
   "metadata": {},
   "source": [
    "Q5. What are Custom Exceptions in python? Why do we need Custom Exceptions? Explain with an example."
   ]
  },
  {
   "cell_type": "code",
   "execution_count": 9,
   "id": "a1e85346-0b1e-4c44-b2bb-b463d3e0c287",
   "metadata": {},
   "outputs": [
    {
     "name": "stdout",
     "output_type": "stream",
     "text": [
      "List validated\n"
     ]
    },
    {
     "ename": "validateList",
     "evalue": "List entered has odd no. of elements\n enter list containing even no. of element",
     "output_type": "error",
     "traceback": [
      "\u001b[0;31m---------------------------------------------------------------------------\u001b[0m",
      "\u001b[0;31mvalidateList\u001b[0m                              Traceback (most recent call last)",
      "Cell \u001b[0;32mIn[9], line 23\u001b[0m\n\u001b[1;32m     21\u001b[0m l2 \u001b[38;5;241m=\u001b[39m [\u001b[38;5;241m32\u001b[39m,\u001b[38;5;241m2\u001b[39m,\u001b[38;5;241m3\u001b[39m,\u001b[38;5;241m7\u001b[39m,\u001b[38;5;241m83\u001b[39m]\n\u001b[1;32m     22\u001b[0m validate_list(l1)\n\u001b[0;32m---> 23\u001b[0m \u001b[43mvalidate_list\u001b[49m\u001b[43m(\u001b[49m\u001b[43ml2\u001b[49m\u001b[43m)\u001b[49m\n",
      "Cell \u001b[0;32mIn[9], line 16\u001b[0m, in \u001b[0;36mvalidate_list\u001b[0;34m(list_)\u001b[0m\n\u001b[1;32m     14\u001b[0m \u001b[38;5;28;01mdef\u001b[39;00m \u001b[38;5;21mvalidate_list\u001b[39m(list_):\n\u001b[1;32m     15\u001b[0m     \u001b[38;5;28;01mif\u001b[39;00m \u001b[38;5;28mlen\u001b[39m(list_)\u001b[38;5;241m%\u001b[39m\u001b[38;5;241m2\u001b[39m \u001b[38;5;241m!=\u001b[39m \u001b[38;5;241m0\u001b[39m:\n\u001b[0;32m---> 16\u001b[0m         \u001b[38;5;28;01mraise\u001b[39;00m validateList(\u001b[38;5;124m\"\u001b[39m\u001b[38;5;124mList entered has odd no. of elements\u001b[39m\u001b[38;5;130;01m\\n\u001b[39;00m\u001b[38;5;124m enter list containing even no. of element\u001b[39m\u001b[38;5;124m\"\u001b[39m)\n\u001b[1;32m     17\u001b[0m     \u001b[38;5;28;01melse\u001b[39;00m: \n\u001b[1;32m     18\u001b[0m         \u001b[38;5;28mprint\u001b[39m(\u001b[38;5;124m\"\u001b[39m\u001b[38;5;124mList validated\u001b[39m\u001b[38;5;124m\"\u001b[39m)\n",
      "\u001b[0;31mvalidateList\u001b[0m: List entered has odd no. of elements\n enter list containing even no. of element"
     ]
    }
   ],
   "source": [
    "\"\"\"\n",
    "create his own exceptions and raise explicitly for corresponding scenarios in these we are in control \n",
    "what exception can do, and when it to be raised using \"raise\" keyword\n",
    "\n",
    "like if we are taking user input and user input some value other than int like float than raise exception \n",
    "or like in below example where exception raised when list length is odd\n",
    "\"\"\"\n",
    "# raise exception if list has odd number of elements  \n",
    "class validateList(Exception):\n",
    "    def __init__(self, msg):\n",
    "        self.msg = msg \n",
    "\n",
    "\n",
    "def validate_list(list_):\n",
    "    if len(list_)%2 != 0:\n",
    "        raise validateList(\"List entered has odd no. of elements\\n enter list containing even no. of element\")\n",
    "    else: \n",
    "        print(\"List validated\")\n",
    "\n",
    "l1 = [1,2,34,6,7,6]\n",
    "l2 = [32,2,3,7,83]\n",
    "validate_list(l1)\n",
    "validate_list(l2)"
   ]
  },
  {
   "cell_type": "markdown",
   "id": "c1610ebe-2446-4473-bc5a-e8db461bffdd",
   "metadata": {},
   "source": [
    "Q6. Create a custom exception class. Use this class to handle an exception."
   ]
  },
  {
   "cell_type": "code",
   "execution_count": 10,
   "id": "feb4f603-2108-44ec-8335-b134a8c7a238",
   "metadata": {},
   "outputs": [
    {
     "name": "stdin",
     "output_type": "stream",
     "text": [
      "Enter a number:  87\n",
      "Enter a number:  89\n",
      "Enter a number:  67\n",
      "Enter a number:  65\n",
      "Enter a number:  667\n"
     ]
    },
    {
     "name": "stdout",
     "output_type": "stream",
     "text": [
      "[87, 89, 67, 65, 667]\n"
     ]
    }
   ],
   "source": [
    "class Error(Exception):\n",
    "    def __init__(self, msg):\n",
    "        print(msg)\n",
    "        \n",
    "        \n",
    "listt = []\n",
    "for i in range(0,5):\n",
    "    try:\n",
    "        i_num = int(input(\"Enter a number: \"))\n",
    "        if i_num == 0:\n",
    "            raise Error(\"Invalid value, Zero not allowed\")\n",
    "        else:\n",
    "            listt.append(i_num)\n",
    "    except Error:\n",
    "        pass\n",
    "print(listt)"
   ]
  },
  {
   "cell_type": "code",
   "execution_count": null,
   "id": "04835aa2-582e-48f6-a743-fa1a597af026",
   "metadata": {},
   "outputs": [],
   "source": []
  }
 ],
 "metadata": {
  "kernelspec": {
   "display_name": "Python 3 (ipykernel)",
   "language": "python",
   "name": "python3"
  },
  "language_info": {
   "codemirror_mode": {
    "name": "ipython",
    "version": 3
   },
   "file_extension": ".py",
   "mimetype": "text/x-python",
   "name": "python",
   "nbconvert_exporter": "python",
   "pygments_lexer": "ipython3",
   "version": "3.10.8"
  }
 },
 "nbformat": 4,
 "nbformat_minor": 5
}

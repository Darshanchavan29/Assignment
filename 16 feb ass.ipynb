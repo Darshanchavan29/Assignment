{
 "cells": [
  {
   "cell_type": "markdown",
   "id": "0f920446-169d-41ec-a1aa-a882aa43561c",
   "metadata": {},
   "source": [
    "Q1. What is a database? Differentiate between SQL and NoSQL databases."
   ]
  },
  {
   "cell_type": "code",
   "execution_count": 1,
   "id": "622d6466-0d97-4cf9-8ff4-50dfb49dd615",
   "metadata": {},
   "outputs": [
    {
     "data": {
      "text/plain": [
       "\" Database is a collection of data, data may be text, image, bool, image, video may be structured or unstructured managed by DBMS software\\n\\nData is organized in tables like in Excel having rows and columns indexed which makes it easy to excecute operation for specific index\\n\\nDatabase could be of different type it may be relational DB, NoSQL, Cloud database, Distributed DB\\n\\n SQL stands for Structured Query Language which is Standard language in relational Database system where tables do follow some relationship with each other Entity-Relationship Diagram used to showcase such relations some eg. MySQL, PostgreSQL, Ms-SQL and OracleSQL\\n\\nNOSQL stands for Non SQL widely used for non-relational database that doesn't require a fixed schema and it is easy to scale where SQL has just Table based DB NOSQL has 4 different typeof DB Key-value DB (like dictionary) Document DB (stores data in JSON,BSON, or XML docx) Wide-column DB (instead of rows data stored in column much like SQL just column side) Graph DB () \""
      ]
     },
     "execution_count": 1,
     "metadata": {},
     "output_type": "execute_result"
    }
   ],
   "source": [
    "\"\"\" Database is a collection of data, data may be text, image, bool, image, video may be structured or unstructured managed by DBMS software\n",
    "\n",
    "Data is organized in tables like in Excel having rows and columns indexed which makes it easy to excecute operation for specific index\n",
    "\n",
    "Database could be of different type it may be relational DB, NoSQL, Cloud database, Distributed DB\n",
    "\n",
    "\"\"\" \"\"\" SQL stands for Structured Query Language which is Standard language in relational Database system where tables do follow some relationship with each other Entity-Relationship Diagram used to showcase such relations some eg. MySQL, PostgreSQL, Ms-SQL and OracleSQL\n",
    "\n",
    "NOSQL stands for Non SQL widely used for non-relational database that doesn't require a fixed schema and it is easy to scale where SQL has just Table based DB NOSQL has 4 different typeof DB Key-value DB (like dictionary) Document DB (stores data in JSON,BSON, or XML docx) Wide-column DB (instead of rows data stored in column much like SQL just column side) Graph DB () \"\"\""
   ]
  },
  {
   "cell_type": "markdown",
   "id": "a6dbac8b-575a-4d96-ba8b-388408a70ffb",
   "metadata": {},
   "source": [
    "Q2. What is DDL? Explain why CREATE, DROP, ALTER, and TRUNCATE are used with an example."
   ]
  },
  {
   "cell_type": "code",
   "execution_count": 2,
   "id": "b4a75a6c-bb09-4bb3-b5c0-48e5d67502d5",
   "metadata": {},
   "outputs": [
    {
     "data": {
      "text/plain": [
       "'\\nDDL stands for Data Definition Language these are sets of statements\\nthat allows the user to define or modify data structure and objects such \\nas Tables\\nDDL commands are \\nCREATE, DROP, TRUNCATE, ALTER \\nCREATE command is used to create DB or objects like table, index,function,view\\n,store procedure and Trigger\\n                                 <--columns name with datatype--------------------->   \\nCREATE TABLE IF NOT EXISTS sales (id INT, purchase_no INT,product_name VARCHAR(10),);\\n\\nTurncate (delete all data inside table)\\nTURNCATE TABLE sales;\\n\\nalter (used to add or delete column & its properties)\\nALTER TABLE sales\\nADD COLUMN purchase_date DATE;\\n\\ndrop used to delete whole db, table, column with data \\nALTER TABLE sales\\nDROP COLUMN date_of_purchase; # delete column and its data \\nDROP TABLE sales; # delete whole table along with its data\\n'"
      ]
     },
     "execution_count": 2,
     "metadata": {},
     "output_type": "execute_result"
    }
   ],
   "source": [
    "\"\"\"\n",
    "DDL stands for Data Definition Language these are sets of statements\n",
    "that allows the user to define or modify data structure and objects such \n",
    "as Tables\n",
    "DDL commands are \n",
    "CREATE, DROP, TRUNCATE, ALTER \n",
    "CREATE command is used to create DB or objects like table, index,function,view\n",
    ",store procedure and Trigger\n",
    "                                 <--columns name with datatype--------------------->   \n",
    "CREATE TABLE IF NOT EXISTS sales (id INT, purchase_no INT,product_name VARCHAR(10),);\n",
    "\n",
    "Turncate (delete all data inside table)\n",
    "TURNCATE TABLE sales;\n",
    "\n",
    "alter (used to add or delete column & its properties)\n",
    "ALTER TABLE sales\n",
    "ADD COLUMN purchase_date DATE;\n",
    "\n",
    "drop used to delete whole db, table, column with data \n",
    "ALTER TABLE sales\n",
    "DROP COLUMN date_of_purchase; # delete column and its data \n",
    "DROP TABLE sales; # delete whole table along with its data\n",
    "\"\"\""
   ]
  },
  {
   "cell_type": "markdown",
   "id": "032885ee-4c5f-4932-8b9e-e0001f5af08e",
   "metadata": {},
   "source": [
    "Q3. What is DML? Explain INSERT, UPDATE, and DELETE with an example."
   ]
  },
  {
   "cell_type": "code",
   "execution_count": 3,
   "id": "44470299-2ded-466f-8528-d75e0ccfb4a8",
   "metadata": {},
   "outputs": [
    {
     "data": {
      "text/plain": [
       "\"\\nDML stands for Data Manipulation Language, DML Stmts allow us to manipulate\\nthe data in the table\\nDML commands: INSERT, UPDATE, DELETE, LOCK\\n\\nINSERT: used to insert data into table\\nsyntax:           <<-here columns              -->>\\nINSERT INTO sales (id, purchase_no, product_name, purchase_date)\\n            VALUES (001,1324,'Detergent','2023-01-01')\\n\\nUPDATE sales\\nSET purchase_date = '2023-02-16'\\nWHERE purchase_no = 1324\\n\\nDELETE- used to delete specific record, row, column. similar to turncate\\nDELETE FROM sales\\nWhere purchase_no = 1324\\n\""
      ]
     },
     "execution_count": 3,
     "metadata": {},
     "output_type": "execute_result"
    }
   ],
   "source": [
    "\"\"\"\n",
    "DML stands for Data Manipulation Language, DML Stmts allow us to manipulate\n",
    "the data in the table\n",
    "DML commands: INSERT, UPDATE, DELETE, LOCK\n",
    "\n",
    "INSERT: used to insert data into table\n",
    "syntax:           <<-here columns              -->>\n",
    "INSERT INTO sales (id, purchase_no, product_name, purchase_date)\n",
    "            VALUES (001,1324,'Detergent','2023-01-01')\n",
    "\n",
    "UPDATE sales\n",
    "SET purchase_date = '2023-02-16'\n",
    "WHERE purchase_no = 1324\n",
    "\n",
    "DELETE- used to delete specific record, row, column. similar to turncate\n",
    "DELETE FROM sales\n",
    "Where purchase_no = 1324\n",
    "\"\"\""
   ]
  },
  {
   "cell_type": "markdown",
   "id": "e2a35280-2c77-46be-ac55-86afaba42b73",
   "metadata": {},
   "source": [
    "Q4. What is DQL? Explain SELECT with an example."
   ]
  },
  {
   "cell_type": "code",
   "execution_count": 4,
   "id": "1399d6b2-7ae3-4ba4-ae93-62229d92b319",
   "metadata": {},
   "outputs": [
    {
     "data": {
      "text/plain": [
       "'DQL stands for Data Query Language used for performing queries on the data within schema\\nthis includes SELECT Command\\n\\nSELECT- used to retrieve data from the DB\\n\\nselect * from sales; # return all the rows and column in sales table \\nSELECT purchase_no from sales; #return purchase_no column from sales table\\nSELECT count(purchase_no) from sales; # return number of non null elements in purchase column\\n'"
      ]
     },
     "execution_count": 4,
     "metadata": {},
     "output_type": "execute_result"
    }
   ],
   "source": [
    "\"\"\"DQL stands for Data Query Language used for performing queries on the data within schema\n",
    "this includes SELECT Command\n",
    "\n",
    "SELECT- used to retrieve data from the DB\n",
    "\n",
    "select * from sales; # return all the rows and column in sales table \n",
    "SELECT purchase_no from sales; #return purchase_no column from sales table\n",
    "SELECT count(purchase_no) from sales; # return number of non null elements in purchase column\n",
    "\"\"\""
   ]
  },
  {
   "cell_type": "markdown",
   "id": "6cc02a18-8386-4971-8dd5-d6ead9e3b96d",
   "metadata": {},
   "source": [
    "Q5. Explain Primary Key and Foreign Key."
   ]
  },
  {
   "cell_type": "code",
   "execution_count": 5,
   "id": "b90a86e2-3344-4fdc-bd7e-81565b00b3fc",
   "metadata": {},
   "outputs": [
    {
     "data": {
      "text/plain": [
       "\"\\nPrimary key is a column whose value exists and is unique for every records in \\nthe table and one table can't have more than one PK and it can't be of null value\\nPK is unique identifier of a table\\n\\nForeign Key are those column which used to establish relationship of one \\ntable to one or more table. One Table could have multiple foreign key \\n\""
      ]
     },
     "execution_count": 5,
     "metadata": {},
     "output_type": "execute_result"
    }
   ],
   "source": [
    "\"\"\"\n",
    "Primary key is a column whose value exists and is unique for every records in \n",
    "the table and one table can't have more than one PK and it can't be of null value\n",
    "PK is unique identifier of a table\n",
    "\n",
    "Foreign Key are those column which used to establish relationship of one \n",
    "table to one or more table. One Table could have multiple foreign key \n",
    "\"\"\""
   ]
  },
  {
   "cell_type": "markdown",
   "id": "714acc9c-7a39-497a-b743-7d3b48a3818e",
   "metadata": {},
   "source": [
    "Q6. Write a python code to connect MySQL to python. Explain the cursor() and execute() method."
   ]
  },
  {
   "cell_type": "code",
   "execution_count": 6,
   "id": "b3ff75aa-0ac2-4e68-90b3-0378a8bcd337",
   "metadata": {},
   "outputs": [
    {
     "data": {
      "text/plain": [
       "'\\ncursor() is mysql.connector class method used to execute statements & \\nto communicate with mysql database. using cursor we can fetch or execute sql \\nstatements\\n\\nexecute() is cursor method object which accept MySql query as a parameter \\nand execute the give query\\n'"
      ]
     },
     "execution_count": 6,
     "metadata": {},
     "output_type": "execute_result"
    }
   ],
   "source": [
    "\"\"\"\n",
    "cursor() is mysql.connector class method used to execute statements & \n",
    "to communicate with mysql database. using cursor we can fetch or execute sql \n",
    "statements\n",
    "\n",
    "execute() is cursor method object which accept MySql query as a parameter \n",
    "and execute the give query\n",
    "\"\"\""
   ]
  },
  {
   "cell_type": "code",
   "execution_count": 9,
   "id": "5d858050-a928-4ba3-93c7-e4a858ed1678",
   "metadata": {},
   "outputs": [
    {
     "ename": "ModuleNotFoundError",
     "evalue": "No module named 'mysql'",
     "output_type": "error",
     "traceback": [
      "\u001b[0;31m---------------------------------------------------------------------------\u001b[0m",
      "\u001b[0;31mModuleNotFoundError\u001b[0m                       Traceback (most recent call last)",
      "Cell \u001b[0;32mIn[9], line 1\u001b[0m\n\u001b[0;32m----> 1\u001b[0m \u001b[38;5;28;01mimport\u001b[39;00m \u001b[38;5;21;01mmysql\u001b[39;00m\u001b[38;5;21;01m.\u001b[39;00m\u001b[38;5;21;01mconnector\u001b[39;00m\n\u001b[1;32m      3\u001b[0m mydb \u001b[38;5;241m=\u001b[39m mysql\u001b[38;5;241m.\u001b[39mconnector\u001b[38;5;241m.\u001b[39mconnect(\n\u001b[1;32m      4\u001b[0m                 host \u001b[38;5;241m=\u001b[39m \u001b[38;5;124m'\u001b[39m\u001b[38;5;124mlocalhost\u001b[39m\u001b[38;5;124m'\u001b[39m,\n\u001b[1;32m      5\u001b[0m                 user \u001b[38;5;241m=\u001b[39m \u001b[38;5;124m'\u001b[39m\u001b[38;5;124mabc\u001b[39m\u001b[38;5;124m'\u001b[39m,\n\u001b[1;32m      6\u001b[0m                 password \u001b[38;5;241m=\u001b[39m \u001b[38;5;124m'\u001b[39m\u001b[38;5;124mpassword\u001b[39m\u001b[38;5;124m'\u001b[39m)\n\u001b[1;32m      7\u001b[0m mycursor \u001b[38;5;241m=\u001b[39m mydb\u001b[38;5;241m.\u001b[39mcursor()\n",
      "\u001b[0;31mModuleNotFoundError\u001b[0m: No module named 'mysql'"
     ]
    }
   ],
   "source": [
    "import mysql.connector\n",
    "\n",
    "mydb = mysql.connector.connect(\n",
    "                host = 'localhost',\n",
    "                user = 'abc',\n",
    "                password = 'password')\n",
    "mycursor = mydb.cursor()\n",
    "mycursor.execute('select * from employees.employees')\n",
    "for i in mycursor.fetchall():\n",
    "    print(i)\n",
    "mydb.close()"
   ]
  },
  {
   "cell_type": "markdown",
   "id": "78d24d27-e004-4fe5-a9cf-ef0fdec3d155",
   "metadata": {},
   "source": [
    "Q7. Give the order of execution of SQL clauses in an SQL query."
   ]
  },
  {
   "cell_type": "raw",
   "id": "21f6b9ed-54f5-4037-bbae-5a160753b215",
   "metadata": {},
   "source": [
    "Order of SQL Query Execution based on SQL Clauses as follows\n",
    "\n",
    "FROM clause\n",
    "WHERE clause\n",
    "SELECT clause\n",
    "GROUP BY clause\n",
    "HAVING clause\n",
    "ORDER BY clause"
   ]
  },
  {
   "cell_type": "code",
   "execution_count": null,
   "id": "ec0cb75d-f846-48fd-81a2-643bc2502bcd",
   "metadata": {},
   "outputs": [],
   "source": []
  }
 ],
 "metadata": {
  "kernelspec": {
   "display_name": "Python 3 (ipykernel)",
   "language": "python",
   "name": "python3"
  },
  "language_info": {
   "codemirror_mode": {
    "name": "ipython",
    "version": 3
   },
   "file_extension": ".py",
   "mimetype": "text/x-python",
   "name": "python",
   "nbconvert_exporter": "python",
   "pygments_lexer": "ipython3",
   "version": "3.10.8"
  }
 },
 "nbformat": 4,
 "nbformat_minor": 5
}

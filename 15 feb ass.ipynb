{
 "cells": [
  {
   "cell_type": "markdown",
   "id": "833c4817-8c52-45ff-9d50-4c2e39b61372",
   "metadata": {},
   "source": [
    "Q1. What is multiprocessing in python? Why is it useful?"
   ]
  },
  {
   "cell_type": "code",
   "execution_count": 1,
   "id": "ef3b443d-a833-4d32-95e7-05aec28d5950",
   "metadata": {},
   "outputs": [
    {
     "data": {
      "text/plain": [
       "'\\nAbility of system to run/execute multiple process simultaneously. it enable smaller thread run independently\\nso process run parallel \\nMultiprocessing helps in increasing overall Performance & efficiency\\n'"
      ]
     },
     "execution_count": 1,
     "metadata": {},
     "output_type": "execute_result"
    }
   ],
   "source": [
    "\"\"\"\n",
    "Ability of system to run/execute multiple process simultaneously. it enable smaller thread run independently\n",
    "so process run parallel \n",
    "Multiprocessing helps in increasing overall Performance & efficiency\n",
    "\"\"\""
   ]
  },
  {
   "cell_type": "markdown",
   "id": "1ce58d97-33d7-4993-a1b9-656a7f0024cf",
   "metadata": {},
   "source": [
    "Q2. What are the differences between multiprocessing and multithreading?"
   ]
  },
  {
   "cell_type": "code",
   "execution_count": 3,
   "id": "4bbfe003-448c-4044-b026-c93b202fd443",
   "metadata": {},
   "outputs": [
    {
     "data": {
      "text/plain": [
       "'\\nMultiprocessing involves multiple process running at once whereas in multithreading single process/thread executing at time\\n\\nIn Multithreading all threads share same memory and processor which makes data sharing & communication easy\\nwhile multiprocessing multiple process runs in parallel\\n\\nAs Multiprocessing usage multiprocess it improve overall performace and efficiency while \\nmultithreading share space soo needs lesser computing and lesser space\\n\\nCreating multiprocess a bit difficult than multiple threads\\n\\nTo boost multiprocessing adding CPU helps but not in multithreading\\n\\n'"
      ]
     },
     "execution_count": 3,
     "metadata": {},
     "output_type": "execute_result"
    }
   ],
   "source": [
    "\"\"\"\n",
    "Multiprocessing involves multiple process running at once whereas in multithreading single process/thread executing at time\n",
    "\n",
    "In Multithreading all threads share same memory and processor which makes data sharing & communication easy\n",
    "while multiprocessing multiple process runs in parallel\n",
    "\n",
    "As Multiprocessing usage multiprocess it improve overall performace and efficiency while \n",
    "multithreading share space soo needs lesser computing and lesser space\n",
    "\n",
    "Creating multiprocess a bit difficult than multiple threads\n",
    "\n",
    "To boost multiprocessing adding CPU helps but not in multithreading\n",
    "\n",
    "\"\"\"\n"
   ]
  },
  {
   "cell_type": "markdown",
   "id": "98f77790-7aaa-4235-8eeb-1b81874ccc22",
   "metadata": {},
   "source": [
    "Q3. Write a python code to create a process using the multiprocessing module."
   ]
  },
  {
   "cell_type": "code",
   "execution_count": 4,
   "id": "29eac4fd-9fe5-4bce-8324-5d42855ad577",
   "metadata": {},
   "outputs": [
    {
     "name": "stdout",
     "output_type": "stream",
     "text": [
      "Sleeping for 1 second....Sleeping for 1 second....Finished in 0.05 seconds\n",
      "\n",
      "\n",
      "Sleeping Done\n",
      "Sleeping Done\n"
     ]
    }
   ],
   "source": [
    "import multiprocessing \n",
    "import time \n",
    "\n",
    "#twice fx call and twice 1 second sleep but total execution time is somewhere around 1 second \n",
    "# just because of processing\n",
    "\n",
    "start = time.perf_counter()\n",
    "def do_something():\n",
    "    print(\"Sleeping for 1 second....\")\n",
    "    time.sleep(1)\n",
    "    print(\"Sleeping Done\")\n",
    "\n",
    "p1 = multiprocessing.Process(target=do_something)\n",
    "p2 = multiprocessing.Process(target= do_something)\n",
    "\n",
    "p1.start()\n",
    "p2.start()\n",
    "\n",
    "# p1.join()\n",
    "# p2.join()\n",
    "\n",
    "finish = time.perf_counter()\n",
    "\n",
    "print(f\"Finished in {round(finish-start,2)} seconds\") \n",
    "# this print stmt run earlier than our thread just because as thread sleep our main started executing \n",
    "# print to stop this use p1.join() and p2.join() after starting thread"
   ]
  },
  {
   "cell_type": "markdown",
   "id": "18a4f7e6-e261-4789-8647-587797f7f640",
   "metadata": {},
   "source": [
    "Q4. What is a multiprocessing pool in python? Why is it used?"
   ]
  },
  {
   "cell_type": "code",
   "execution_count": 6,
   "id": "9d362649-aa6d-4bcd-8e5e-41a6c4c41276",
   "metadata": {},
   "outputs": [
    {
     "data": {
      "text/plain": [
       "'\\nMultithreading pool controls a pool of worker processes to which jobs can be submitted.\\nPool did management of process it initialize how many process to be works in parallel and \\ndistribute the task among these available process\\n\\nWe can reuse Pool as this class is regardless of target ie function so we can use with multiple target\\nas we want to use in pool it allows also Pool allows executing muliple task or multitasking as \\nmap() , imap() method execting main thread can do other task\\n'"
      ]
     },
     "execution_count": 6,
     "metadata": {},
     "output_type": "execute_result"
    }
   ],
   "source": [
    "\"\"\"\n",
    "Multithreading pool controls a pool of worker processes to which jobs can be submitted.\n",
    "Pool did management of process it initialize how many process to be works in parallel and \n",
    "distribute the task among these available process\n",
    "\n",
    "We can reuse Pool as this class is regardless of target ie function so we can use with multiple target\n",
    "as we want to use in pool it allows also Pool allows executing muliple task or multitasking as \n",
    "map() , imap() method execting main thread can do other task\n",
    "\"\"\""
   ]
  },
  {
   "cell_type": "markdown",
   "id": "9112c0e0-2e87-4ff4-9be9-2c2d70a81355",
   "metadata": {},
   "source": [
    "Q5. How can we create a pool of worker processes in python using the multiprocessing module?"
   ]
  },
  {
   "cell_type": "code",
   "execution_count": 7,
   "id": "8484601a-96ae-43b0-b4d0-40949a8b653f",
   "metadata": {},
   "outputs": [
    {
     "name": "stdout",
     "output_type": "stream",
     "text": [
      "[0, 1, 4, 9, 16, 25, 36, 49, 64, 81]\n",
      "0\n",
      "1\n",
      "4\n",
      "9\n",
      "16\n",
      "25\n",
      "49\n",
      "36\n",
      "81\n",
      "64\n",
      "400\n",
      "Now pool is no longer available\n"
     ]
    }
   ],
   "source": [
    "from multiprocessing import Pool\n",
    "\n",
    "\n",
    "def f(x):\n",
    "    return x*x\n",
    "\n",
    "if __name__ == '__main__':\n",
    "    with Pool(processes=4) as pool:\n",
    "        #gave a list with square value from 1 to 10 \n",
    "        print(pool.map(f, range(10)))\n",
    "        \n",
    "        # unordered result of above list\n",
    "        for i in pool.imap_unordered(f, range(10)):\n",
    "            print(i)\n",
    "\n",
    "        # evaluate \"f(20)\" asynchronously\n",
    "        res = pool.apply_async(f, (20,))      \n",
    "        print(res.get(timeout=1))            \n",
    "\n",
    "    print(\"Now pool is no longer available\")"
   ]
  },
  {
   "cell_type": "markdown",
   "id": "801c06b9-142b-4c9e-805b-a8470e43d0c1",
   "metadata": {},
   "source": [
    "Q6. Write a python program to create 4 processes, each process should print a different number using the\n",
    "multiprocessing module in python."
   ]
  },
  {
   "cell_type": "code",
   "execution_count": 8,
   "id": "12a917e2-0d46-4367-b32e-53d79bc3cda9",
   "metadata": {},
   "outputs": [
    {
     "name": "stdout",
     "output_type": "stream",
     "text": [
      "Process 0: 0\n",
      "Process 1: 1\n",
      "Process 2: 2\n",
      "Process 3: 3\n",
      "Process finished in 0.05 seconds\n"
     ]
    }
   ],
   "source": [
    "from multiprocessing import *\n",
    "import time \n",
    "\n",
    "start = time.perf_counter()\n",
    "def print_number(num):\n",
    "    print(f\"Process {num}: {num}\")\n",
    "\n",
    "if __name__ == '__main__':\n",
    "    processes = []\n",
    "    for i in range(4):\n",
    "        process = Process(target=print_number, args=(i,))\n",
    "        processes.append(process)\n",
    "        process.start()\n",
    "    \n",
    "    for process in processes:\n",
    "        process.join()\n",
    "    \n",
    "    finish = time.perf_counter()\n",
    "    \n",
    "    print(f\"Process finished in {round(finish-start,2)} seconds\")"
   ]
  },
  {
   "cell_type": "code",
   "execution_count": null,
   "id": "241fd9f8-1ba3-4edc-8c68-8a282c64ca70",
   "metadata": {},
   "outputs": [],
   "source": []
  }
 ],
 "metadata": {
  "kernelspec": {
   "display_name": "Python 3 (ipykernel)",
   "language": "python",
   "name": "python3"
  },
  "language_info": {
   "codemirror_mode": {
    "name": "ipython",
    "version": 3
   },
   "file_extension": ".py",
   "mimetype": "text/x-python",
   "name": "python",
   "nbconvert_exporter": "python",
   "pygments_lexer": "ipython3",
   "version": "3.10.8"
  }
 },
 "nbformat": 4,
 "nbformat_minor": 5
}

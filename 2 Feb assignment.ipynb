{
 "cells": [
  {
   "cell_type": "markdown",
   "id": "2f12b82e-ced7-4a86-9c03-935e96e4ec34",
   "metadata": {},
   "source": [
    "###Que1 What are the characterisitcs of the tuples? is tuple Immutable?"
   ]
  },
  {
   "cell_type": "code",
   "execution_count": 1,
   "id": "d3e3a5d2-3553-4a19-809f-c36fed3933f9",
   "metadata": {},
   "outputs": [
    {
     "data": {
      "text/plain": [
       "\"\\nTuples are collection of elements from data type eg. int,string,tuple,bool\\nsyntax tup()\\nIndexed element\\nDuplicacy Allowed as elements are indexed\\nhashing not allowed so list, set,dictionary type elements are not allowed \\nImmutable as we can't change tuple's element\\n\""
      ]
     },
     "execution_count": 1,
     "metadata": {},
     "output_type": "execute_result"
    }
   ],
   "source": [
    "\"\"\"\n",
    "Tuples are collection of elements from data type eg. int,string,tuple,bool\n",
    "syntax tup()\n",
    "Indexed element\n",
    "Duplicacy Allowed as elements are indexed\n",
    "hashing not allowed so list, set,dictionary type elements are not allowed \n",
    "Immutable as we can't change tuple's element\n",
    "\"\"\""
   ]
  },
  {
   "cell_type": "markdown",
   "id": "f46e0639-7c34-4913-8f7f-141cd1207aba",
   "metadata": {},
   "source": [
    "### Que2 what are the two tuple method in python?Give an example of each method\n",
    "Give a reason why tuples have only two in-built methods as compared to lists."
   ]
  },
  {
   "cell_type": "code",
   "execution_count": 2,
   "id": "ae6388fb-f064-4f4b-9e0e-9dafa828be59",
   "metadata": {},
   "outputs": [
    {
     "data": {
      "text/plain": [
       "2"
      ]
     },
     "execution_count": 2,
     "metadata": {},
     "output_type": "execute_result"
    }
   ],
   "source": [
    "# Two methods of Tuple are \\n count and \\n index\n",
    "tup = (1,4,5,6,23.2,'str',True,(1,2,4,5))\n",
    "#count\n",
    "tup.count(1) # this count how many times 1 appear in tuple \n",
    "# return 2 as True also counted as 1 \n",
    "#index\n",
    "tup.index(5) #this will gave the position/index of element 5 in our tuple\n",
    "\n",
    "#Tuple once created/defined can't be changed i.e its element or value can't be altered or manipulated \n",
    "# so most of list and other methods doesn't apply like if copy operation give in list to make copy as simple (lis= lis2) \n",
    "# method can make changes in both list if applies to any but this not applies to tuple similarly append pop will not work as\n",
    "# tuple can and its elements can be altered once defined"
   ]
  },
  {
   "cell_type": "markdown",
   "id": "17fc1a16-226e-4e75-8a37-fdecab6f74ef",
   "metadata": {
    "jp-MarkdownHeadingCollapsed": true,
    "tags": []
   },
   "source": [
    "Que3 which collection datetypes in python do not allow duplicate items?\n",
    "Write a code using a set to remove duplicates from the give list.\n",
    "List = [1,1,1,2,1,3,1,4,2,1,2,2,2,3,2,4,3,1,3,2,3,3,3,4,4,1,4,2,4,3,4,4]\n",
    "\n"
   ]
  },
  {
   "cell_type": "code",
   "execution_count": 3,
   "id": "e3b0ea55-a2d1-4443-b8af-2570cea3a7ec",
   "metadata": {},
   "outputs": [
    {
     "data": {
      "text/plain": [
       "{1, 2, 3, 4}"
      ]
     },
     "execution_count": 3,
     "metadata": {},
     "output_type": "execute_result"
    }
   ],
   "source": [
    "# set collection datatype doesn't allows duplicacy \n",
    "List = [1,1,1,2,1,3,1,4,2,1,2,2,2,3,2,4,3,1,3,2,3,3,3,4,4,1,4,2,4,3,4,4]\n",
    "# typecasting list to set will eliminate duplicate element on its own \n",
    "st = set(List)\n",
    "st"
   ]
  },
  {
   "cell_type": "markdown",
   "id": "74680233-fb4a-49ba-b42c-e5f7c020b92b",
   "metadata": {},
   "source": [
    "Que4 Explain the difference btw the union() and update() methods for a set. Give an example of each method."
   ]
  },
  {
   "cell_type": "code",
   "execution_count": 4,
   "id": "b7960ec2-73c1-4868-8922-e00a85e43aba",
   "metadata": {},
   "outputs": [
    {
     "name": "stdout",
     "output_type": "stream",
     "text": [
      "{1, 2, 3, 4, 5, 6}\n",
      "{1, 2, 5, 6}\n",
      "None\n",
      "{1, 2, 3, 4, 5, 6}\n"
     ]
    }
   ],
   "source": [
    "st1 = {2,5,1,6,2,}\n",
    "#both union and update method showcase same result but union will not affect set data\n",
    "#but update actually update data by updating and adding unavailable data\n",
    "print(st1.union(st))\n",
    "print(st1) #here st1 back to its previous elements mean union doesn't affect set data\n",
    "print(st1.update(st))\n",
    "print(st1) # here st1 updated with new elements means update did affect our set data"
   ]
  },
  {
   "cell_type": "markdown",
   "id": "1dc6939c-31c2-4c5c-a0fc-a8430409b378",
   "metadata": {},
   "source": [
    "##Que5 what is dictionary? give an example. Also, state whether a dictionary is ordered or unordered."
   ]
  },
  {
   "cell_type": "code",
   "execution_count": 5,
   "id": "c7d2ea69-a633-4034-b6d8-c3982807fb73",
   "metadata": {},
   "outputs": [
    {
     "data": {
      "text/plain": [
       "{'name': 'John', 'age': 30, 'country': 'UK'}"
      ]
     },
     "execution_count": 5,
     "metadata": {},
     "output_type": "execute_result"
    }
   ],
   "source": [
    "# Dictionary in python are unordered collection of items.\n",
    "# each item of dictionary has a key and value pair\n",
    "# key must be unique through out the dictionary \n",
    "# dictionary in python are mutable means both keys and elements allowed to change or alter\n",
    "# key can of integer, string, tuple (list,dic,set not allowed)\n",
    "# dictionary initialized by curly braces -  {}\n",
    "\n",
    "dic = {\"name\":\"John\",\"age\":30,\"country\":\"UK\"}\n",
    "dic"
   ]
  },
  {
   "cell_type": "markdown",
   "id": "e771688a-2c01-4fec-9c52-57b0ca43737c",
   "metadata": {},
   "source": [
    "Que6 can we create a nested dictionay?If so, please give an example by creating a simple one-level nested dictionary."
   ]
  },
  {
   "cell_type": "code",
   "execution_count": 6,
   "id": "30a948ef-e52f-4ace-a241-3a7f40b027c7",
   "metadata": {},
   "outputs": [
    {
     "data": {
      "text/plain": [
       "{'name': 'Willy',\n",
       " 'age': 20,\n",
       " 'country': 'Israil',\n",
       " 'Qualification': {'High-School': 'J.K International School',\n",
       "  'Grad': 'Harvard University'}}"
      ]
     },
     "execution_count": 6,
     "metadata": {},
     "output_type": "execute_result"
    }
   ],
   "source": [
    "# Yes we can create a nested dictionary. We can add nested dic in values place\n",
    "dic1 = {'name':'Willy','age':20,'country':\"Israil\",'Qualification':\n",
    "        {'High-School':\"J.K International School\",\"Grad\":\"Harvard University\"}} #nested part\n",
    "dic1"
   ]
  },
  {
   "cell_type": "markdown",
   "id": "0af534d0-64b1-40cd-94a1-1882e7d2ec21",
   "metadata": {},
   "source": [
    "Que7 using setdefault() method, create key named topics in the give dictionary and also add the value of the key as this list\n"
   ]
  },
  {
   "cell_type": "code",
   "execution_count": 7,
   "id": "4e894aa8-d9be-4ab1-984d-36faafeb289f",
   "metadata": {},
   "outputs": [],
   "source": [
    "dict1 = {'language':'Python','course':'Data Science Masters'}"
   ]
  },
  {
   "cell_type": "code",
   "execution_count": 8,
   "id": "626355bc-ac7d-43a5-8f5b-45140c54124d",
   "metadata": {},
   "outputs": [
    {
     "data": {
      "text/plain": [
       "{'language': 'Python',\n",
       " 'course': 'Data Science Masters',\n",
       " 'topics': 'Deep Learning'}"
      ]
     },
     "execution_count": 8,
     "metadata": {},
     "output_type": "execute_result"
    }
   ],
   "source": [
    "dic2 =  {'language':'Python','course':'Data Science Masters'}\n",
    "dic2.setdefault(\"topics\",'Deep Learning')\n",
    "dic2"
   ]
  },
  {
   "cell_type": "markdown",
   "id": "7cc8d1b8-4eaf-448e-8457-3e85db54c2a3",
   "metadata": {},
   "source": [
    "Que8 what are the three view objects in dictionaries? Use the three in-built\n",
    "methods in python to display these three view objects for the give dictionary."
   ]
  },
  {
   "cell_type": "code",
   "execution_count": null,
   "id": "e3f56170-4310-4675-837f-db480555e4b3",
   "metadata": {},
   "outputs": [],
   "source": []
  }
 ],
 "metadata": {
  "kernelspec": {
   "display_name": "Python 3 (ipykernel)",
   "language": "python",
   "name": "python3"
  },
  "language_info": {
   "codemirror_mode": {
    "name": "ipython",
    "version": 3
   },
   "file_extension": ".py",
   "mimetype": "text/x-python",
   "name": "python",
   "nbconvert_exporter": "python",
   "pygments_lexer": "ipython3",
   "version": "3.10.8"
  }
 },
 "nbformat": 4,
 "nbformat_minor": 5
}

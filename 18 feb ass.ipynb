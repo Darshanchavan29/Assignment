{
 "cells": [
  {
   "cell_type": "markdown",
   "id": "305036ea-ec4a-454b-9a11-5ddd12010ca2",
   "metadata": {},
   "source": [
    "Q1. What is an API? Give an example, where an API is used in real life."
   ]
  },
  {
   "cell_type": "code",
   "execution_count": 1,
   "id": "9f05d75e-6679-4e82-86fa-a9ec7bc5bb88",
   "metadata": {},
   "outputs": [
    {
     "data": {
      "text/plain": [
       "\"\\nAPI stands for Application Programming Interface. \\nAPI are mechanism to enable two Software components to communicate with each \\nother using a set of definitions and protocol.\\nEx. Zomato app uses Google Map APIs for Geographical usage to locate and provide \\nrealtime location of riders to customers and rider get user location\\n\\nWorking of API: \\nAPI Architecture usually explained in terms of client & server, where application \\nsends the request which is client and application sends the response back called server\\nex. a webpage which don't hold any data it when user request called client \\nand sent request via internet and Server accept it, process it & sent it back\\n\\n\""
      ]
     },
     "execution_count": 1,
     "metadata": {},
     "output_type": "execute_result"
    }
   ],
   "source": [
    "\"\"\"\n",
    "API stands for Application Programming Interface. \n",
    "API are mechanism to enable two Software components to communicate with each \n",
    "other using a set of definitions and protocol.\n",
    "Ex. Zomato app uses Google Map APIs for Geographical usage to locate and provide \n",
    "realtime location of riders to customers and rider get user location\n",
    "\n",
    "Working of API: \n",
    "API Architecture usually explained in terms of client & server, where application \n",
    "sends the request which is client and application sends the response back called server\n",
    "ex. a webpage which don't hold any data it when user request called client \n",
    "and sent request via internet and Server accept it, process it & sent it back\n",
    "\n",
    "\"\"\""
   ]
  },
  {
   "cell_type": "markdown",
   "id": "8244c3fa-7444-475d-8831-4fcb6669fbd0",
   "metadata": {},
   "source": [
    "Q2. Give advantages and disadvantages of using API."
   ]
  },
  {
   "cell_type": "code",
   "execution_count": 2,
   "id": "d1311d64-b633-467a-8f21-c4a767fecc62",
   "metadata": {},
   "outputs": [
    {
     "data": {
      "text/plain": [
       "'\\nAdvantages: \\n- brings new level of modularity to application. \\n- allows developers to leverage the expertise of other application.\\n- once API developed organization need not to reinvent the wheel when it comes \\n    to authentication, communication, payment processing, and maps.\\n- seamless plug-in capabilities & functionalities of APIs. \\n- allows to communicate apps and system components with each other \\n    internally or over the internet\\n- any present or developed API can be easily integrate with our system \\n\\nDisadvantages: \\n- Vulnerable if implementation not done well \\n- High Cost of developing, maintaining, documentation, and support\\n- Adding an API adds another attack surface our application\\n\\n'"
      ]
     },
     "execution_count": 2,
     "metadata": {},
     "output_type": "execute_result"
    }
   ],
   "source": [
    "\"\"\"\n",
    "Advantages: \n",
    "- brings new level of modularity to application. \n",
    "- allows developers to leverage the expertise of other application.\n",
    "- once API developed organization need not to reinvent the wheel when it comes \n",
    "    to authentication, communication, payment processing, and maps.\n",
    "- seamless plug-in capabilities & functionalities of APIs. \n",
    "- allows to communicate apps and system components with each other \n",
    "    internally or over the internet\n",
    "- any present or developed API can be easily integrate with our system \n",
    "\n",
    "Disadvantages: \n",
    "- Vulnerable if implementation not done well \n",
    "- High Cost of developing, maintaining, documentation, and support\n",
    "- Adding an API adds another attack surface our application\n",
    "\n",
    "\"\"\""
   ]
  },
  {
   "cell_type": "markdown",
   "id": "af7c2d4b-d8ef-4307-b536-c546c42ccb17",
   "metadata": {},
   "source": [
    "Q3. What is a Web API? Differentiate between API and Web API."
   ]
  },
  {
   "cell_type": "code",
   "execution_count": 3,
   "id": "a571741f-fc27-4a25-a4fe-865487665b51",
   "metadata": {},
   "outputs": [
    {
     "data": {
      "text/plain": [
       "'\\nWeb API or Web Service API is an application processing interface btw a web \\nserver and web browser. all web services are APIs but not all APIs are web servcie\\nRest API is a special type of Web API \\nWeb API mostly uses HTTP for connection and as a security protocol which sometimes \\nconsidered not so secure when your top priority for API is security \\n\\n\\nAPI VS Web API\\n\\nAPI is set of protocols, routines, and tools for building software applications.\\nIt defines how software should interact and communicate with each other, \\nenabling exchange of data and services.\\n\\nWeb API that is specifically designed to be used over the web, via HTTP(S) requests. \\nIt allows developers to access the functionality of a web-based application or \\nservice, such as social media platforms by sending requests to specific URLs and\\nreceiving responses in a specified format, such as JSON or XML.\\n\\n'"
      ]
     },
     "execution_count": 3,
     "metadata": {},
     "output_type": "execute_result"
    }
   ],
   "source": [
    "\"\"\"\n",
    "Web API or Web Service API is an application processing interface btw a web \n",
    "server and web browser. all web services are APIs but not all APIs are web servcie\n",
    "Rest API is a special type of Web API \n",
    "Web API mostly uses HTTP for connection and as a security protocol which sometimes \n",
    "considered not so secure when your top priority for API is security \n",
    "\n",
    "\n",
    "API VS Web API\n",
    "\n",
    "API is set of protocols, routines, and tools for building software applications.\n",
    "It defines how software should interact and communicate with each other, \n",
    "enabling exchange of data and services.\n",
    "\n",
    "Web API that is specifically designed to be used over the web, via HTTP(S) requests. \n",
    "It allows developers to access the functionality of a web-based application or \n",
    "service, such as social media platforms by sending requests to specific URLs and\n",
    "receiving responses in a specified format, such as JSON or XML.\n",
    "\n",
    "\"\"\""
   ]
  },
  {
   "cell_type": "markdown",
   "id": "e8db9136-1652-43dd-95eb-6ba221204473",
   "metadata": {},
   "source": [
    "Q4. Explain REST and SOAP Architecture. Mention shortcomings of SOAP."
   ]
  },
  {
   "cell_type": "code",
   "execution_count": 4,
   "id": "8779fc37-1568-40e1-a558-a6e6f505b1b4",
   "metadata": {},
   "outputs": [
    {
     "data": {
      "text/plain": [
       "\"\\nSOAP stands for standard communication protocol system that uses XML tech to define \\nframeworks that allows structured info to be exchanged in decentralized, distribut env. \\nSOAP allows applications running on different OS to communicate using d/f tech. and programming lang\\nUseCase: create, retrieve, update, and delete records such as passwords, accounts, leads \\n\\nREST stands for Representational State Transfer, It is an Architectural style not a protocol like SOAP,\\nfollows principles of Web APIs where Client requent for resources and server return all relevant info by processing it \\nby using HTTPs as a communication protocol \\n\\n\\nSOAP shortcomings \\n- Difficult to implement and requires more bandwidth \\n- SOAP can't make use of rest api since SOAP is protocol but Rest can  make use of \\n    SOAP \\n- can be designed for large enterprise application \\n\""
      ]
     },
     "execution_count": 4,
     "metadata": {},
     "output_type": "execute_result"
    }
   ],
   "source": [
    "\"\"\"\n",
    "SOAP stands for standard communication protocol system that uses XML tech to define \n",
    "frameworks that allows structured info to be exchanged in decentralized, distribut env. \n",
    "SOAP allows applications running on different OS to communicate using d/f tech. and programming lang\n",
    "UseCase: create, retrieve, update, and delete records such as passwords, accounts, leads \n",
    "\n",
    "REST stands for Representational State Transfer, It is an Architectural style not a protocol like SOAP,\n",
    "follows principles of Web APIs where Client requent for resources and server return all relevant info by processing it \n",
    "by using HTTPs as a communication protocol \n",
    "\n",
    "\n",
    "SOAP shortcomings \n",
    "- Difficult to implement and requires more bandwidth \n",
    "- SOAP can't make use of rest api since SOAP is protocol but Rest can  make use of \n",
    "    SOAP \n",
    "- can be designed for large enterprise application \n",
    "\"\"\""
   ]
  },
  {
   "cell_type": "markdown",
   "id": "fded1480-17da-4f44-8b1e-37491b8b171a",
   "metadata": {},
   "source": [
    "Q5. Differentiate between REST and SOAP."
   ]
  },
  {
   "cell_type": "code",
   "execution_count": 5,
   "id": "476e9da9-46c3-4332-9bf0-df692b770050",
   "metadata": {},
   "outputs": [
    {
     "data": {
      "text/plain": [
       "\"\\nSOAP API: \\n- a set of protocol \\n- Data trasport in XML Format\\n- using SSL & WS-Security \\n- works over HTTP, HTTPs, SMTP, XMPP\\n- highly structured & bulk so only for large application\\n\\nREST API:\\n- Architecture using HTTP\\n- trasport data in JSON but it doesn't enforce message format XML or JSON \\n- works with GET, POST, PUT, DELETE\\n- less structured so less bulky \\n- designed with mobile devices\\n\""
      ]
     },
     "execution_count": 5,
     "metadata": {},
     "output_type": "execute_result"
    }
   ],
   "source": [
    "\"\"\"\n",
    "SOAP API: \n",
    "- a set of protocol \n",
    "- Data trasport in XML Format\n",
    "- using SSL & WS-Security \n",
    "- works over HTTP, HTTPs, SMTP, XMPP\n",
    "- highly structured & bulk so only for large application\n",
    "\n",
    "REST API:\n",
    "- Architecture using HTTP\n",
    "- trasport data in JSON but it doesn't enforce message format XML or JSON \n",
    "- works with GET, POST, PUT, DELETE\n",
    "- less structured so less bulky \n",
    "- designed with mobile devices\n",
    "\"\"\""
   ]
  },
  {
   "cell_type": "code",
   "execution_count": null,
   "id": "a843c495-4d84-4459-a6c2-614e9e746cb6",
   "metadata": {},
   "outputs": [],
   "source": []
  }
 ],
 "metadata": {
  "kernelspec": {
   "display_name": "Python 3 (ipykernel)",
   "language": "python",
   "name": "python3"
  },
  "language_info": {
   "codemirror_mode": {
    "name": "ipython",
    "version": 3
   },
   "file_extension": ".py",
   "mimetype": "text/x-python",
   "name": "python",
   "nbconvert_exporter": "python",
   "pygments_lexer": "ipython3",
   "version": "3.10.8"
  }
 },
 "nbformat": 4,
 "nbformat_minor": 5
}

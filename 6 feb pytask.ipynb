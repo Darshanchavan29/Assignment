{
 "cells": [
  {
   "cell_type": "markdown",
   "id": "13423269-5f0b-48c3-9571-70712c5acd36",
   "metadata": {},
   "source": [
    "Q1. Create a function which will take a list as an argument and return the product of all the numbers\n",
    "after creating a flat list.\n",
    "Use the below-given list as an argument for your function.\n",
    "list1 = [1,2,3,4, [44,55,66, True], False, (34,56,78,89,34), {1,2,3,3,2,1}, {1:34, \"key2\": [55, 67, 78, 89], 4: (45,\n",
    "22, 61, 34)}, [56, 'data science'], 'Machine Learning']\n",
    "Note: you must extract numeric keys and values of the dictionary also."
   ]
  },
  {
   "cell_type": "code",
   "execution_count": 1,
   "id": "457d7847-4727-44cd-9181-6620ba436a2c",
   "metadata": {},
   "outputs": [],
   "source": [
    "list1=[1,2,3,4, [44,55,66, True], False, (34,56,78,89,34), {1,2,3,3,2,1}, {1:34, \"key2\": [55, 67, 78, 89], 4: (45, 22, 61, 34)}, [56, 'data science'], 'Machine Learning'] "
   ]
  },
  {
   "cell_type": "code",
   "execution_count": 2,
   "id": "a971d7f5-b4ca-4175-bb2d-cb143a7378f0",
   "metadata": {},
   "outputs": [],
   "source": [
    "from functools import reduce"
   ]
  },
  {
   "cell_type": "code",
   "execution_count": 4,
   "id": "47b5eaee-0a45-4e8f-b8aa-8cdad5a304ea",
   "metadata": {},
   "outputs": [
    {
     "name": "stdout",
     "output_type": "stream",
     "text": [
      "[1, 2, 3, 4, 44, 55, 66, 34, 56, 78, 89, 34, 1, 2, 3, 34, 55, 67, 78, 89, 45, 22, 61, 34, 56]\n"
     ]
    },
    {
     "data": {
      "text/plain": [
       "1033677959746771369708460310528000"
      ]
     },
     "execution_count": 4,
     "metadata": {},
     "output_type": "execute_result"
    }
   ],
   "source": [
    "list2 =[]\n",
    "for i in list1:\n",
    "    if type(i) == int:\n",
    "        list2.append(i)\n",
    "    elif type(i) == list or type(i)== tuple or type(i)== set:\n",
    "        for j in i: \n",
    "            if type(j) == int:\n",
    "                list2.append(j)\n",
    "            else:\n",
    "                pass\n",
    "    #dict type handler\n",
    "    elif type(i) == dict: \n",
    "        for j in i.values():\n",
    "            if type(j) == int: \n",
    "                list2.append(j)\n",
    "            elif type(j) == list or type(j) == tuple or type(j) == set:\n",
    "                for k in j: \n",
    "                    list2.append(k)\n",
    "    else:\n",
    "        pass\n",
    "print(list2)\n",
    "\n",
    "new_lis = reduce(lambda x,y:x*y,list2)\n",
    "new_lis"
   ]
  },
  {
   "cell_type": "markdown",
   "id": "80860168-3951-4cfe-900d-d76df85f2ddc",
   "metadata": {},
   "source": [
    "Q2. Write a python program for encrypting a message sent to you by your friend. The logic of encryption\n",
    "should be such that, for a the output should be z. For b, the output should be y. For c, the output should\n",
    "be x respectively. Also, the whitespace should be replaced with a dollar sign. Keep the punctuation\n",
    "marks unchanged.\n",
    "Input Sentence: I want to become a Data Scientist.\n",
    "Encrypt the above input sentence using the program you just created.\n",
    "Note: Convert the given input sentence into lowercase before encrypting. The final output should be\n",
    "lowercase."
   ]
  },
  {
   "cell_type": "code",
   "execution_count": 8,
   "id": "9eec9c32-79df-4157-a741-a2d5ca8cc39d",
   "metadata": {},
   "outputs": [
    {
     "name": "stdout",
     "output_type": "stream",
     "text": [
      "r$dzmg$gl$yvxlnv$z$wzgz$hxrvmgrhg\n"
     ]
    }
   ],
   "source": [
    "data= \"I want to become a Data Scientist\"\n",
    "alpha =    \"abcdefghijklmnopqrstuvwxyz\"\n",
    "re_alpha = \"zyxwvutsrqponmlkjihgfedcba\"\n",
    "data = list(data.lower())\n",
    "# print(inpt)\n",
    "for i in range(len(data)): \n",
    "    if data[i] == \" \": \n",
    "        data[i] =\"$\"\n",
    "    elif data[i].isalpha():\n",
    "        indx = alpha.find(data[i])\n",
    "        data[i] = re_alpha[indx]\n",
    "    else: \n",
    "        pass \n",
    "# print(inpt)\n",
    "encrpt_msg = \"\"\n",
    "print(encrpt_msg.join(data))"
   ]
  },
  {
   "cell_type": "code",
   "execution_count": null,
   "id": "f3e242b3-f5a1-4caa-8a07-23b8935f5b85",
   "metadata": {},
   "outputs": [],
   "source": []
  }
 ],
 "metadata": {
  "kernelspec": {
   "display_name": "Python 3 (ipykernel)",
   "language": "python",
   "name": "python3"
  },
  "language_info": {
   "codemirror_mode": {
    "name": "ipython",
    "version": 3
   },
   "file_extension": ".py",
   "mimetype": "text/x-python",
   "name": "python",
   "nbconvert_exporter": "python",
   "pygments_lexer": "ipython3",
   "version": "3.10.8"
  }
 },
 "nbformat": 4,
 "nbformat_minor": 5
}
